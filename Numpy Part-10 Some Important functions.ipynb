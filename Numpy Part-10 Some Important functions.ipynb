{
 "cells": [
  {
   "cell_type": "code",
   "execution_count": 14,
   "id": "9153e0bb",
   "metadata": {},
   "outputs": [],
   "source": [
    "import numpy as np"
   ]
  },
  {
   "cell_type": "code",
   "execution_count": 28,
   "id": "6fb3bffd",
   "metadata": {},
   "outputs": [
    {
     "data": {
      "text/plain": [
       "0.5988358917065396"
      ]
     },
     "execution_count": 28,
     "metadata": {},
     "output_type": "execute_result"
    }
   ],
   "source": [
    "np.random.random()"
   ]
  },
  {
   "cell_type": "code",
   "execution_count": 89,
   "id": "c1598e5b",
   "metadata": {},
   "outputs": [
    {
     "data": {
      "text/plain": [
       "0.43599490214200376"
      ]
     },
     "execution_count": 89,
     "metadata": {},
     "output_type": "execute_result"
    }
   ],
   "source": [
    "np.random.seed(2) # seed function generates same random number again and again\n",
    "np.random.random()"
   ]
  },
  {
   "cell_type": "code",
   "execution_count": 135,
   "id": "78d06db6",
   "metadata": {},
   "outputs": [
    {
     "data": {
      "text/plain": [
       "5.36747263026799"
      ]
     },
     "execution_count": 135,
     "metadata": {},
     "output_type": "execute_result"
    }
   ],
   "source": [
    "np.random.uniform(1,11)"
   ]
  },
  {
   "cell_type": "code",
   "execution_count": 142,
   "id": "7215518c",
   "metadata": {},
   "outputs": [
    {
     "data": {
      "text/plain": [
       "array([[10.83138361,  7.52906951,  5.77736353,  1.87787555,  6.58950795,\n",
       "         2.81150229],\n",
       "       [ 6.1440206 ,  7.08930149,  9.3321249 ,  4.23750582, 10.88862093,\n",
       "        10.9495026 ],\n",
       "       [ 9.26150819,  7.94152545,  8.33669798,  9.7526881 , 10.51510148,\n",
       "         9.52262927],\n",
       "       [ 7.4093864 ,  1.73498385,  7.23384714,  4.53213892,  2.64778623,\n",
       "         9.93166187],\n",
       "       [ 9.24890481,  6.26638424,  5.63449256,  5.89301288,  3.6072002 ,\n",
       "         5.02637923]])"
      ]
     },
     "execution_count": 142,
     "metadata": {},
     "output_type": "execute_result"
    }
   ],
   "source": [
    "np.random.uniform(1, 11, size=30).reshape(5,6)"
   ]
  },
  {
   "cell_type": "code",
   "execution_count": 159,
   "id": "e7f9cfc4",
   "metadata": {},
   "outputs": [
    {
     "data": {
      "text/plain": [
       "9"
      ]
     },
     "execution_count": 159,
     "metadata": {},
     "output_type": "execute_result"
    }
   ],
   "source": [
    "np.random.randint(1, 11)"
   ]
  },
  {
   "cell_type": "code",
   "execution_count": 174,
   "id": "73403a17",
   "metadata": {},
   "outputs": [
    {
     "data": {
      "text/plain": [
       "array([ 9,  7,  9,  7,  5,  4,  3,  8,  5,  4, 10,  1,  3,  4,  1,  2,  2,\n",
       "       10,  7,  3])"
      ]
     },
     "execution_count": 174,
     "metadata": {},
     "output_type": "execute_result"
    }
   ],
   "source": [
    "np.random.randint(1, 11, size=20)"
   ]
  },
  {
   "cell_type": "code",
   "execution_count": 180,
   "id": "125fa5b1",
   "metadata": {},
   "outputs": [
    {
     "data": {
      "text/plain": [
       "array([[3, 6, 2, 8],\n",
       "       [2, 5, 9, 1],\n",
       "       [4, 6, 6, 1],\n",
       "       [4, 1, 3, 3],\n",
       "       [3, 1, 6, 2]])"
      ]
     },
     "execution_count": 180,
     "metadata": {},
     "output_type": "execute_result"
    }
   ],
   "source": [
    "np.random.randint(1, 11, size=20).reshape(5,4)"
   ]
  },
  {
   "cell_type": "code",
   "execution_count": 192,
   "id": "7eff8d81",
   "metadata": {},
   "outputs": [
    {
     "data": {
      "text/plain": [
       "array([ 1,  8,  2, 10, 10,  6])"
      ]
     },
     "execution_count": 192,
     "metadata": {},
     "output_type": "execute_result"
    }
   ],
   "source": [
    "num = np.random.randint(1, 11, size=6)\n",
    "num"
   ]
  },
  {
   "cell_type": "code",
   "execution_count": 193,
   "id": "d889cc08",
   "metadata": {},
   "outputs": [
    {
     "data": {
      "text/plain": [
       "array([ 2, 16,  4, 20, 20, 12])"
      ]
     },
     "execution_count": 193,
     "metadata": {},
     "output_type": "execute_result"
    }
   ],
   "source": [
    "num * 2"
   ]
  },
  {
   "cell_type": "code",
   "execution_count": 194,
   "id": "da352254",
   "metadata": {},
   "outputs": [
    {
     "data": {
      "text/plain": [
       "10"
      ]
     },
     "execution_count": 194,
     "metadata": {},
     "output_type": "execute_result"
    }
   ],
   "source": [
    "np.max(num)"
   ]
  },
  {
   "cell_type": "code",
   "execution_count": 195,
   "id": "57cc5f57",
   "metadata": {},
   "outputs": [
    {
     "data": {
      "text/plain": [
       "1"
      ]
     },
     "execution_count": 195,
     "metadata": {},
     "output_type": "execute_result"
    }
   ],
   "source": [
    "np.min(num)"
   ]
  },
  {
   "cell_type": "code",
   "execution_count": 203,
   "id": "36b0d5a8",
   "metadata": {},
   "outputs": [
    {
     "data": {
      "text/plain": [
       "3"
      ]
     },
     "execution_count": 203,
     "metadata": {},
     "output_type": "execute_result"
    }
   ],
   "source": [
    "np.argmax(num)"
   ]
  },
  {
   "cell_type": "code",
   "execution_count": 209,
   "id": "dfbdd372",
   "metadata": {},
   "outputs": [
    {
     "data": {
      "text/plain": [
       "10"
      ]
     },
     "execution_count": 209,
     "metadata": {},
     "output_type": "execute_result"
    }
   ],
   "source": [
    "num[np.argmax(num)] # Returns index of maximun number from the array"
   ]
  },
  {
   "cell_type": "code",
   "execution_count": 216,
   "id": "f6aa4ffa",
   "metadata": {},
   "outputs": [
    {
     "data": {
      "text/plain": [
       "1"
      ]
     },
     "execution_count": 216,
     "metadata": {},
     "output_type": "execute_result"
    }
   ],
   "source": [
    "num[np.argmin(num)] # Returns index of minium number from the array"
   ]
  },
  {
   "cell_type": "code",
   "execution_count": 224,
   "id": "b15e6aae",
   "metadata": {},
   "outputs": [
    {
     "data": {
      "text/plain": [
       "array([ True, False, False, False, False, False])"
      ]
     },
     "execution_count": 224,
     "metadata": {},
     "output_type": "execute_result"
    }
   ],
   "source": [
    "num % 2 != 0 # Condition to check for odd num"
   ]
  },
  {
   "cell_type": "code",
   "execution_count": 225,
   "id": "18fd445c",
   "metadata": {},
   "outputs": [
    {
     "data": {
      "text/plain": [
       "array([1])"
      ]
     },
     "execution_count": 225,
     "metadata": {},
     "output_type": "execute_result"
    }
   ],
   "source": [
    "num[num % 2 != 0] # Fitting the given condition inside the array"
   ]
  },
  {
   "cell_type": "code",
   "execution_count": 226,
   "id": "a7e74aad",
   "metadata": {},
   "outputs": [
    {
     "data": {
      "text/plain": [
       "array([False, False, False,  True,  True, False])"
      ]
     },
     "execution_count": 226,
     "metadata": {},
     "output_type": "execute_result"
    }
   ],
   "source": [
    "num % 5 == 0 # Condition to check number is divisible by 5"
   ]
  },
  {
   "cell_type": "code",
   "execution_count": 227,
   "id": "17f46524",
   "metadata": {},
   "outputs": [
    {
     "data": {
      "text/plain": [
       "array([10, 10])"
      ]
     },
     "execution_count": 227,
     "metadata": {},
     "output_type": "execute_result"
    }
   ],
   "source": [
    "num[num % 5 == 0] # Fitting given condition inside the array"
   ]
  },
  {
   "cell_type": "code",
   "execution_count": 231,
   "id": "51f958a4",
   "metadata": {},
   "outputs": [
    {
     "data": {
      "text/plain": [
       "array([False,  True,  True,  True,  True,  True])"
      ]
     },
     "execution_count": 231,
     "metadata": {},
     "output_type": "execute_result"
    }
   ],
   "source": [
    "# If the number is Even , change the number to 2 else return number as it is\n",
    "num % 2 == 0 # given condition"
   ]
  },
  {
   "cell_type": "code",
   "execution_count": 237,
   "id": "71282418",
   "metadata": {},
   "outputs": [
    {
     "data": {
      "text/plain": [
       "array([1, 2, 2, 2, 2, 2])"
      ]
     },
     "execution_count": 237,
     "metadata": {},
     "output_type": "execute_result"
    }
   ],
   "source": [
    "# Fitting the given condition inside the array\n",
    "num[num % 2 == 0] = 2\n",
    "num"
   ]
  },
  {
   "cell_type": "code",
   "execution_count": 239,
   "id": "7c3efd55",
   "metadata": {},
   "outputs": [
    {
     "data": {
      "text/plain": [
       "array([1, 2, 2, 2, 2, 2])"
      ]
     },
     "execution_count": 239,
     "metadata": {},
     "output_type": "execute_result"
    }
   ],
   "source": [
    "num"
   ]
  },
  {
   "cell_type": "code",
   "execution_count": 244,
   "id": "53a5e817",
   "metadata": {},
   "outputs": [
    {
     "data": {
      "text/plain": [
       "array([30,  5, 26, 37, 29, 40])"
      ]
     },
     "execution_count": 244,
     "metadata": {},
     "output_type": "execute_result"
    }
   ],
   "source": [
    "# Performing the same operation using np.where func()\n",
    "new_num = np.random.randint(1, 50, 6)\n",
    "new_num"
   ]
  },
  {
   "cell_type": "code",
   "execution_count": 245,
   "id": "4c79a89c",
   "metadata": {},
   "outputs": [
    {
     "data": {
      "text/plain": [
       "array(['30', 'Odd', '26', 'Odd', 'Odd', '40'], dtype='<U21')"
      ]
     },
     "execution_count": 245,
     "metadata": {},
     "output_type": "execute_result"
    }
   ],
   "source": [
    "np.where(new_num % 2 != 0, 'Odd', new_num)"
   ]
  },
  {
   "cell_type": "code",
   "execution_count": 247,
   "id": "dfd3328e",
   "metadata": {},
   "outputs": [
    {
     "data": {
      "text/plain": [
       "array([30,  5, 26, 37, 29, 40])"
      ]
     },
     "execution_count": 247,
     "metadata": {},
     "output_type": "execute_result"
    }
   ],
   "source": [
    "new_num # This function does not change the original array, like in previous case"
   ]
  },
  {
   "cell_type": "code",
   "execution_count": 248,
   "id": "70be44a4",
   "metadata": {},
   "outputs": [],
   "source": [
    "arr1 = np.random.randint(1, 50, size=20)"
   ]
  },
  {
   "cell_type": "code",
   "execution_count": 249,
   "id": "6fe1103c",
   "metadata": {},
   "outputs": [
    {
     "data": {
      "text/plain": [
       "array([11, 45, 46, 38, 22, 24, 28, 45, 11,  3, 46, 35, 24,  8,  7, 29, 44,\n",
       "       38, 37, 17])"
      ]
     },
     "execution_count": 249,
     "metadata": {},
     "output_type": "execute_result"
    }
   ],
   "source": [
    "arr1"
   ]
  },
  {
   "cell_type": "code",
   "execution_count": 252,
   "id": "50fa1a9c",
   "metadata": {},
   "outputs": [
    {
     "data": {
      "text/plain": [
       "array([ 3,  7,  8, 11, 11, 17, 22, 24, 24, 28, 29, 35, 37, 38, 38, 44, 45,\n",
       "       45, 46, 46])"
      ]
     },
     "execution_count": 252,
     "metadata": {},
     "output_type": "execute_result"
    }
   ],
   "source": [
    "sorted_arr1 = np.sort(arr1)\n",
    "sorted_arr1"
   ]
  },
  {
   "cell_type": "code",
   "execution_count": 257,
   "id": "e4555865",
   "metadata": {},
   "outputs": [
    {
     "data": {
      "text/plain": [
       "28.5"
      ]
     },
     "execution_count": 257,
     "metadata": {},
     "output_type": "execute_result"
    }
   ],
   "source": [
    "np.percentile(sorted_arr1, 50)"
   ]
  },
  {
   "cell_type": "code",
   "execution_count": 258,
   "id": "76222ba6",
   "metadata": {},
   "outputs": [
    {
     "data": {
      "text/plain": [
       "38.0"
      ]
     },
     "execution_count": 258,
     "metadata": {},
     "output_type": "execute_result"
    }
   ],
   "source": [
    "np.percentile(sorted_arr1, 70)"
   ]
  },
  {
   "cell_type": "code",
   "execution_count": 260,
   "id": "a8dad7cd",
   "metadata": {},
   "outputs": [
    {
     "data": {
      "text/plain": [
       "45.1"
      ]
     },
     "execution_count": 260,
     "metadata": {},
     "output_type": "execute_result"
    }
   ],
   "source": [
    "np.percentile(sorted_arr1, 90)"
   ]
  },
  {
   "cell_type": "code",
   "execution_count": 261,
   "id": "25a0357e",
   "metadata": {},
   "outputs": [
    {
     "data": {
      "text/plain": [
       "46.0"
      ]
     },
     "execution_count": 261,
     "metadata": {},
     "output_type": "execute_result"
    }
   ],
   "source": [
    "np.percentile(sorted_arr1, 99)"
   ]
  }
 ],
 "metadata": {
  "kernelspec": {
   "display_name": "Python 3 (ipykernel)",
   "language": "python",
   "name": "python3"
  },
  "language_info": {
   "codemirror_mode": {
    "name": "ipython",
    "version": 3
   },
   "file_extension": ".py",
   "mimetype": "text/x-python",
   "name": "python",
   "nbconvert_exporter": "python",
   "pygments_lexer": "ipython3",
   "version": "3.10.12"
  }
 },
 "nbformat": 4,
 "nbformat_minor": 5
}
