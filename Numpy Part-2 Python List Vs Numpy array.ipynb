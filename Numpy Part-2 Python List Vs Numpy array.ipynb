{
 "cells": [
  {
   "cell_type": "markdown",
   "id": "480db21e",
   "metadata": {},
   "source": [
    "Advantages Of Using Numpy Array:"
   ]
  },
  {
   "cell_type": "markdown",
   "id": "59252723",
   "metadata": {},
   "source": [
    "1. Faster\n",
    "2. Convenient\n",
    "3. Less Memory "
   ]
  },
  {
   "cell_type": "markdown",
   "id": "fea01a19",
   "metadata": {},
   "source": [
    "### #.Memory usage of List Vs Numpy Array"
   ]
  },
  {
   "cell_type": "code",
   "execution_count": 38,
   "id": "928d9d1d",
   "metadata": {},
   "outputs": [],
   "source": [
    "# List \n",
    "list_a = range(100)\n",
    "# Numpy Array\n",
    "import numpy as np\n",
    "np_arr = np.arange(100)"
   ]
  },
  {
   "cell_type": "code",
   "execution_count": 39,
   "id": "90e9cf32",
   "metadata": {},
   "outputs": [
    {
     "name": "stdout",
     "output_type": "stream",
     "text": [
      "2800 Bytes\n"
     ]
    }
   ],
   "source": [
    "# Memory occupied by list\n",
    "import sys\n",
    "print(f'{sys.getsizeof(56) * len(list_a)} Bytes')"
   ]
  },
  {
   "cell_type": "code",
   "execution_count": 40,
   "id": "d6d7fd5e",
   "metadata": {},
   "outputs": [
    {
     "name": "stdout",
     "output_type": "stream",
     "text": [
      "400 Bytes\n"
     ]
    }
   ],
   "source": [
    "# Memory occupied by numpy array\n",
    "np_arr = np_arr.astype('int32') # Converting 'int64' to 'int32' for more memory reduction\n",
    "print(f'{np_arr.itemsize * np_arr.size} Bytes')"
   ]
  },
  {
   "cell_type": "markdown",
   "id": "83e3f9ae",
   "metadata": {},
   "source": [
    "### #.Execution time of List Vs Numpy Array"
   ]
  },
  {
   "cell_type": "code",
   "execution_count": 56,
   "id": "424ade79",
   "metadata": {},
   "outputs": [
    {
     "name": "stdout",
     "output_type": "stream",
     "text": [
      "Execution Time: 0.63700270652771\n"
     ]
    }
   ],
   "source": [
    "import time\n",
    "\n",
    "# For list\n",
    "x, y = range(10000000), range(10000000, 20000000)\n",
    "start_time = time.time()\n",
    "result = [x + y for x, y in zip(x, y)]\n",
    "print(f'Execution Time: {time.time() - start_time}')"
   ]
  },
  {
   "cell_type": "code",
   "execution_count": 58,
   "id": "70dc8f39",
   "metadata": {},
   "outputs": [
    {
     "name": "stdout",
     "output_type": "stream",
     "text": [
      "Execution Time: 0.023573875427246094\n"
     ]
    }
   ],
   "source": [
    "# For Numpy Array\n",
    "a, b = np.arange(10000000), np.arange(10000000, 20000000)\n",
    "start_time = time.time()\n",
    "result = a + b\n",
    "print(f'Execution Time: {time.time() - start_time}')"
   ]
  }
 ],
 "metadata": {
  "kernelspec": {
   "display_name": "Python 3 (ipykernel)",
   "language": "python",
   "name": "python3"
  },
  "language_info": {
   "codemirror_mode": {
    "name": "ipython",
    "version": 3
   },
   "file_extension": ".py",
   "mimetype": "text/x-python",
   "name": "python",
   "nbconvert_exporter": "python",
   "pygments_lexer": "ipython3",
   "version": "3.10.12"
  }
 },
 "nbformat": 4,
 "nbformat_minor": 5
}
