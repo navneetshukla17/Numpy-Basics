{
 "cells": [
  {
   "cell_type": "markdown",
   "id": "3540a3e1",
   "metadata": {},
   "source": [
    "### 1. Import the numpy package under the name `np` (★☆☆)"
   ]
  },
  {
   "cell_type": "code",
   "execution_count": 1,
   "id": "ddb1d2cd",
   "metadata": {},
   "outputs": [],
   "source": [
    "import numpy as np"
   ]
  },
  {
   "cell_type": "markdown",
   "id": "499a1357",
   "metadata": {},
   "source": [
    "### 2. Print the numpy version and the configuration (★☆☆)"
   ]
  },
  {
   "cell_type": "code",
   "execution_count": 2,
   "id": "7389a887",
   "metadata": {},
   "outputs": [
    {
     "name": "stdout",
     "output_type": "stream",
     "text": [
      "Current Numpy Version: 1.26.4\n",
      "Build Dependencies:\n",
      "  blas:\n",
      "    detection method: system\n",
      "    found: true\n",
      "    include directory: unknown\n",
      "    lib directory: unknown\n",
      "    name: blas\n",
      "    openblas configuration: unknown\n",
      "    pc file directory: unknown\n",
      "    version: unknown\n",
      "  lapack:\n",
      "    detection method: internal\n",
      "    found: true\n",
      "    include directory: unknown\n",
      "    lib directory: unknown\n",
      "    name: dep140228583157936\n",
      "    openblas configuration: unknown\n",
      "    pc file directory: unknown\n",
      "    version: 1.26.4\n",
      "Compilers:\n",
      "  c:\n",
      "    args: -g, -O2, -fno-omit-frame-pointer, -mno-omit-leaf-frame-pointer, -ffile-prefix-map=/build/numpy-VpSPb5/numpy-1.26.4+ds=.,\n",
      "      -flto=auto, -ffat-lto-objects, -fstack-protector-strong, -fstack-clash-protection,\n",
      "      -Wformat, -Werror=format-security, -fcf-protection, -fdebug-prefix-map=/build/numpy-VpSPb5/numpy-1.26.4+ds=/usr/src/numpy-1:1.26.4+ds-6ubuntu1,\n",
      "      -Wdate-time, -D_FORTIFY_SOURCE=3\n",
      "    commands: cc\n",
      "    linker: ld.bfd\n",
      "    linker args: -Wl,-Bsymbolic-functions, -flto=auto, -ffat-lto-objects, -Wl,-z,relro,\n",
      "      -g, -O2, -fno-omit-frame-pointer, -mno-omit-leaf-frame-pointer, -ffile-prefix-map=/build/numpy-VpSPb5/numpy-1.26.4+ds=.,\n",
      "      -flto=auto, -ffat-lto-objects, -fstack-protector-strong, -fstack-clash-protection,\n",
      "      -Wformat, -Werror=format-security, -fcf-protection, -fdebug-prefix-map=/build/numpy-VpSPb5/numpy-1.26.4+ds=/usr/src/numpy-1:1.26.4+ds-6ubuntu1,\n",
      "      -Wdate-time, -D_FORTIFY_SOURCE=3\n",
      "    name: gcc\n",
      "    version: 13.2.0\n",
      "  c++:\n",
      "    args: -g, -O2, -fno-omit-frame-pointer, -mno-omit-leaf-frame-pointer, -ffile-prefix-map=/build/numpy-VpSPb5/numpy-1.26.4+ds=.,\n",
      "      -flto=auto, -ffat-lto-objects, -fstack-protector-strong, -fstack-clash-protection,\n",
      "      -Wformat, -Werror=format-security, -fcf-protection, -fdebug-prefix-map=/build/numpy-VpSPb5/numpy-1.26.4+ds=/usr/src/numpy-1:1.26.4+ds-6ubuntu1,\n",
      "      -Wdate-time, -D_FORTIFY_SOURCE=3\n",
      "    commands: c++\n",
      "    linker: ld.bfd\n",
      "    linker args: -Wl,-Bsymbolic-functions, -flto=auto, -ffat-lto-objects, -Wl,-z,relro,\n",
      "      -g, -O2, -fno-omit-frame-pointer, -mno-omit-leaf-frame-pointer, -ffile-prefix-map=/build/numpy-VpSPb5/numpy-1.26.4+ds=.,\n",
      "      -flto=auto, -ffat-lto-objects, -fstack-protector-strong, -fstack-clash-protection,\n",
      "      -Wformat, -Werror=format-security, -fcf-protection, -fdebug-prefix-map=/build/numpy-VpSPb5/numpy-1.26.4+ds=/usr/src/numpy-1:1.26.4+ds-6ubuntu1,\n",
      "      -Wdate-time, -D_FORTIFY_SOURCE=3\n",
      "    name: gcc\n",
      "    version: 13.2.0\n",
      "  cython:\n",
      "    commands: cython\n",
      "    linker: cython\n",
      "    name: cython\n",
      "    version: 3.0.8\n",
      "Machine Information:\n",
      "  build:\n",
      "    cpu: x86_64\n",
      "    endian: little\n",
      "    family: x86_64\n",
      "    system: linux\n",
      "  host:\n",
      "    cpu: x86_64\n",
      "    endian: little\n",
      "    family: x86_64\n",
      "    system: linux\n",
      "Python Information:\n",
      "  path: /usr/bin/python3.12\n",
      "  version: '3.12'\n",
      "SIMD Extensions:\n",
      "  baseline:\n",
      "  - SSE\n",
      "  - SSE2\n",
      "  - SSE3\n",
      "  found:\n",
      "  - SSSE3\n",
      "  - SSE41\n",
      "  - POPCNT\n",
      "  - SSE42\n",
      "  - AVX\n",
      "  - F16C\n",
      "  - FMA3\n",
      "  - AVX2\n",
      "  - AVX512F\n",
      "  - AVX512CD\n",
      "  - AVX512_SKX\n",
      "  - AVX512_CLX\n",
      "  - AVX512_CNL\n",
      "  - AVX512_ICL\n",
      "  not found:\n",
      "  - AVX512_KNL\n",
      "  - AVX512_KNM\n",
      "  - AVX512_SPR\n",
      "\n",
      "Numpy Configs: None\n"
     ]
    }
   ],
   "source": [
    "print(f'Current Numpy Version: {np.__version__}')\n",
    "print(f'Numpy Configs: {np.show_config()}')"
   ]
  },
  {
   "cell_type": "markdown",
   "id": "8b36a88b",
   "metadata": {},
   "source": [
    "### 3. Create a null vector of size 10 (★☆☆)\n"
   ]
  },
  {
   "cell_type": "code",
   "execution_count": 3,
   "id": "786d2de7",
   "metadata": {},
   "outputs": [
    {
     "name": "stdout",
     "output_type": "stream",
     "text": [
      "[0. 0. 0. 0. 0. 0. 0. 0. 0. 0.]\n",
      "10\n"
     ]
    }
   ],
   "source": [
    "null_vector = np.zeros(10)\n",
    "print(null_vector)\n",
    "print(null_vector.size)"
   ]
  },
  {
   "cell_type": "markdown",
   "id": "ef8c24bf",
   "metadata": {},
   "source": [
    "### 4. How to find the memory size of any array (★☆☆)"
   ]
  },
  {
   "cell_type": "code",
   "execution_count": 4,
   "id": "95fe7d93",
   "metadata": {},
   "outputs": [
    {
     "name": "stdout",
     "output_type": "stream",
     "text": [
      "Total memorey size of arr: 40 Bytes\n"
     ]
    }
   ],
   "source": [
    "arr = np.array([1, 2, 3, 4, 5])\n",
    "print(f'Total memorey size of arr: {arr.itemsize * arr.size} Bytes')"
   ]
  },
  {
   "cell_type": "markdown",
   "id": "be404a84",
   "metadata": {},
   "source": [
    "### 5. How to get the documentation of the numpy add function from the command line? (★☆☆)\n"
   ]
  },
  {
   "cell_type": "code",
   "execution_count": 5,
   "id": "76b3fb08",
   "metadata": {},
   "outputs": [
    {
     "name": "stdout",
     "output_type": "stream",
     "text": [
      "add(x1, x2, /, out=None, *, where=True, casting='same_kind', order='K', dtype=None, subok=True[, signature, extobj])\n",
      "\n",
      "Add arguments element-wise.\n",
      "\n",
      "Parameters\n",
      "----------\n",
      "x1, x2 : array_like\n",
      "    The arrays to be added.\n",
      "    If ``x1.shape != x2.shape``, they must be broadcastable to a common\n",
      "    shape (which becomes the shape of the output).\n",
      "out : ndarray, None, or tuple of ndarray and None, optional\n",
      "    A location into which the result is stored. If provided, it must have\n",
      "    a shape that the inputs broadcast to. If not provided or None,\n",
      "    a freshly-allocated array is returned. A tuple (possible only as a\n",
      "    keyword argument) must have length equal to the number of outputs.\n",
      "where : array_like, optional\n",
      "    This condition is broadcast over the input. At locations where the\n",
      "    condition is True, the `out` array will be set to the ufunc result.\n",
      "    Elsewhere, the `out` array will retain its original value.\n",
      "    Note that if an uninitialized `out` array is created via the default\n",
      "    ``out=None``, locations within it where the condition is False will\n",
      "    remain uninitialized.\n",
      "**kwargs\n",
      "    For other keyword-only arguments, see the\n",
      "    :ref:`ufunc docs <ufuncs.kwargs>`.\n",
      "\n",
      "Returns\n",
      "-------\n",
      "add : ndarray or scalar\n",
      "    The sum of `x1` and `x2`, element-wise.\n",
      "    This is a scalar if both `x1` and `x2` are scalars.\n",
      "\n",
      "Notes\n",
      "-----\n",
      "Equivalent to `x1` + `x2` in terms of array broadcasting.\n",
      "\n",
      "Examples\n",
      "--------\n",
      ">>> np.add(1.0, 4.0)\n",
      "5.0\n",
      ">>> x1 = np.arange(9.0).reshape((3, 3))\n",
      ">>> x2 = np.arange(3.0)\n",
      ">>> np.add(x1, x2)\n",
      "array([[  0.,   2.,   4.],\n",
      "       [  3.,   5.,   7.],\n",
      "       [  6.,   8.,  10.]])\n",
      "\n",
      "The ``+`` operator can be used as a shorthand for ``np.add`` on ndarrays.\n",
      "\n",
      ">>> x1 = np.arange(9.0).reshape((3, 3))\n",
      ">>> x2 = np.arange(3.0)\n",
      ">>> x1 + x2\n",
      "array([[ 0.,  2.,  4.],\n",
      "       [ 3.,  5.,  7.],\n",
      "       [ 6.,  8., 10.]])\n"
     ]
    }
   ],
   "source": [
    "np.info(np.add)"
   ]
  },
  {
   "cell_type": "markdown",
   "id": "74c8b2c6",
   "metadata": {},
   "source": [
    "### 6. Create a null vector of size 10 but the fifth value which is 1 (★☆☆)"
   ]
  },
  {
   "cell_type": "code",
   "execution_count": 6,
   "id": "87108bba",
   "metadata": {},
   "outputs": [
    {
     "data": {
      "text/plain": [
       "array([0., 0., 0., 0., 1., 0., 0., 0., 0., 0.])"
      ]
     },
     "execution_count": 6,
     "metadata": {},
     "output_type": "execute_result"
    }
   ],
   "source": [
    "n = np.zeros(10)\n",
    "n[4] = 1\n",
    "n"
   ]
  },
  {
   "cell_type": "markdown",
   "id": "8e968b34",
   "metadata": {},
   "source": [
    "### 7. Create a vector with values ranging from 10 to 49 (★☆☆)\n"
   ]
  },
  {
   "cell_type": "code",
   "execution_count": 7,
   "id": "e55fb55c",
   "metadata": {},
   "outputs": [
    {
     "data": {
      "text/plain": [
       "array([10, 11, 12, 13, 14, 15, 16, 17, 18, 19, 20, 21, 22, 23, 24, 25, 26,\n",
       "       27, 28, 29, 30, 31, 32, 33, 34, 35, 36, 37, 38, 39, 40, 41, 42, 43,\n",
       "       44, 45, 46, 47, 48, 49])"
      ]
     },
     "execution_count": 7,
     "metadata": {},
     "output_type": "execute_result"
    }
   ],
   "source": [
    "a = np.arange(10,50)\n",
    "a"
   ]
  },
  {
   "cell_type": "markdown",
   "id": "bd02dce5",
   "metadata": {},
   "source": [
    "### 8. Reverse a vector (first element becomes last) (★☆☆)\n"
   ]
  },
  {
   "cell_type": "code",
   "execution_count": 8,
   "id": "63e049aa",
   "metadata": {},
   "outputs": [
    {
     "name": "stdout",
     "output_type": "stream",
     "text": [
      "Original: [ 1  2  3  4  5  6  7  8  9 10]\n",
      "Reversed: [10  9  8  7  6  5  4  3  2  1]\n"
     ]
    }
   ],
   "source": [
    "arr = np.arange(1, 11)\n",
    "print(f'Original: {arr}')\n",
    "arr_reversed = arr[::-1]\n",
    "print(f'Reversed: {arr_reversed}')"
   ]
  },
  {
   "cell_type": "markdown",
   "id": "77aca0d9",
   "metadata": {},
   "source": [
    "### 9. Create a 3x3 matrix with values ranging from 0 to 8 (★☆☆)\n"
   ]
  },
  {
   "cell_type": "code",
   "execution_count": 9,
   "id": "d8097bb9",
   "metadata": {},
   "outputs": [
    {
     "data": {
      "text/plain": [
       "array([[0, 1, 2],\n",
       "       [3, 4, 5],\n",
       "       [6, 7, 8]])"
      ]
     },
     "execution_count": 9,
     "metadata": {},
     "output_type": "execute_result"
    }
   ],
   "source": [
    "matrix = np.arange(9).reshape(3,3)\n",
    "matrix"
   ]
  },
  {
   "cell_type": "markdown",
   "id": "747e0e03",
   "metadata": {},
   "source": [
    "### 10. Find indices of non-zero elements from [1,2,0,0,4,0] (★☆☆) NOT SOLVED !\n"
   ]
  },
  {
   "cell_type": "code",
   "execution_count": 10,
   "id": "5c8c8ccd",
   "metadata": {},
   "outputs": [
    {
     "data": {
      "text/plain": [
       "array([1, 2, None, None, 4, None], dtype=object)"
      ]
     },
     "execution_count": 10,
     "metadata": {},
     "output_type": "execute_result"
    }
   ],
   "source": [
    "arr1 = np.array([1, 2, 0, 0, 4, 0])\n",
    "np.where(arr1 > 0, arr1, None)"
   ]
  },
  {
   "cell_type": "code",
   "execution_count": 11,
   "id": "733f1dca",
   "metadata": {},
   "outputs": [
    {
     "data": {
      "text/plain": [
       "(array([0, 1, 4]),)"
      ]
     },
     "execution_count": 11,
     "metadata": {},
     "output_type": "execute_result"
    }
   ],
   "source": [
    "# SOLUTION:\n",
    "arr1 = np.array([1, 2, 0, 0, 4, 0])\n",
    "np.nonzero(arr1)"
   ]
  },
  {
   "cell_type": "markdown",
   "id": "b33bee05",
   "metadata": {},
   "source": [
    "### 11. Create a 3x3 identity matrix (★☆☆)\n"
   ]
  },
  {
   "cell_type": "code",
   "execution_count": 12,
   "id": "a3ea3fe6",
   "metadata": {},
   "outputs": [
    {
     "name": "stdout",
     "output_type": "stream",
     "text": [
      "[[1. 0. 0.]\n",
      " [0. 1. 0.]\n",
      " [0. 0. 1.]]\n",
      "(3, 3)\n"
     ]
    }
   ],
   "source": [
    "indentity_matrix = np.identity(3)\n",
    "print(indentity_matrix)\n",
    "print(indentity_matrix.shape)"
   ]
  },
  {
   "cell_type": "markdown",
   "id": "e4a23116",
   "metadata": {},
   "source": [
    "\n",
    "### 12. Create a 3x3x3 array with random values (★☆☆)\n"
   ]
  },
  {
   "cell_type": "code",
   "execution_count": 13,
   "id": "02d6eb9f",
   "metadata": {},
   "outputs": [
    {
     "data": {
      "text/plain": [
       "array([[9, 5, 2],\n",
       "       [8, 3, 3],\n",
       "       [4, 4, 4]])"
      ]
     },
     "execution_count": 13,
     "metadata": {},
     "output_type": "execute_result"
    }
   ],
   "source": [
    "np.random.randint(1,10,size=9).reshape(3,3) # Wrong Solution !!"
   ]
  },
  {
   "cell_type": "code",
   "execution_count": 14,
   "id": "08580321",
   "metadata": {},
   "outputs": [
    {
     "data": {
      "text/plain": [
       "array([[[0.33103718, 0.44244192, 0.30182889],\n",
       "        [0.86944322, 0.54004841, 0.45302578],\n",
       "        [0.4915021 , 0.45534892, 0.42422367]],\n",
       "\n",
       "       [[0.9690746 , 0.14296887, 0.45726123],\n",
       "        [0.31226245, 0.59388571, 0.46170317],\n",
       "        [0.94512218, 0.20660896, 0.89820578]],\n",
       "\n",
       "       [[0.10020196, 0.69821697, 0.91150576],\n",
       "        [0.54138753, 0.25515046, 0.05772049],\n",
       "        [0.1271166 , 0.02418785, 0.32418174]]])"
      ]
     },
     "execution_count": 14,
     "metadata": {},
     "output_type": "execute_result"
    }
   ],
   "source": [
    "# Correct Solution: Create a 3x3x3 array with random values\n",
    "np.random.random((3,3,3))"
   ]
  },
  {
   "cell_type": "markdown",
   "id": "c1a5c337",
   "metadata": {},
   "source": [
    "### 13. Create a 10x10 array with random values and find the minimum and maximum values (★☆☆)\n"
   ]
  },
  {
   "cell_type": "code",
   "execution_count": 15,
   "id": "56767eb8",
   "metadata": {},
   "outputs": [
    {
     "name": "stdout",
     "output_type": "stream",
     "text": [
      "[[ 96  53  58  97  74  90  54  94  98   4]\n",
      " [ 83  33  57  36  93  58  90  24  82  42]\n",
      " [ 14  14  38  60  30  45  83   7  99  36]\n",
      " [ 98   6  44 100  92  11   9  92  52  62]\n",
      " [ 82  76  68  37  81  85  71   2  75   2]\n",
      " [  1  22  92   4  25  20  14  59  83   8]\n",
      " [ 16  28  65   5  63  78   4  64  96  59]\n",
      " [ 85  79  97   1  91  54  86  64  56  86]\n",
      " [ 68  86  48  43  29  97  50  79   4  72]\n",
      " [ 76  80  92  76  42  58   8  88  89  93]]\n",
      "(10, 10)\n",
      "1\n",
      "100\n"
     ]
    }
   ],
   "source": [
    "arr2 = np.random.randint(1,101,size=100).reshape(10,10)\n",
    "print(arr2)\n",
    "print(arr2.shape)\n",
    "print(arr2.min())\n",
    "print(arr2.max())"
   ]
  },
  {
   "cell_type": "code",
   "execution_count": 16,
   "id": "99e5b9e6",
   "metadata": {},
   "outputs": [
    {
     "name": "stdout",
     "output_type": "stream",
     "text": [
      "0.005579251481431791 0.980499437660527\n"
     ]
    }
   ],
   "source": [
    "# Another Solution:\n",
    "Z = np.random.random((10,10))\n",
    "Zmin, Zmax = np.min(Z), np.max(Z)\n",
    "print(Zmin, Zmax)"
   ]
  },
  {
   "cell_type": "markdown",
   "id": "b22ab427",
   "metadata": {},
   "source": [
    "### 14. Create a random vector of size 30 and find the mean value (★☆☆)\n"
   ]
  },
  {
   "cell_type": "code",
   "execution_count": 17,
   "id": "76010180",
   "metadata": {},
   "outputs": [
    {
     "name": "stdout",
     "output_type": "stream",
     "text": [
      "[16 24 20 28 18 16  2 25 26 25 17  9 13 14 27 14  8 14  9 26 20  2  5 12\n",
      "  1  1 24 25 17  8]\n",
      "5.5\n",
      "10\n"
     ]
    }
   ],
   "source": [
    "arr3 = np.random.randint(1,30, size=30) # Incorrect Solution\n",
    "print(arr3)\n",
    "print(arr.mean())\n",
    "print(arr.size)"
   ]
  },
  {
   "cell_type": "code",
   "execution_count": 18,
   "id": "eb526a35",
   "metadata": {},
   "outputs": [
    {
     "name": "stdout",
     "output_type": "stream",
     "text": [
      "[0.70438667 0.89612874 0.37909227 0.22684821 0.69161936 0.8775257\n",
      " 0.1605971  0.75642261 0.52321314 0.7074937  0.22995884 0.62761672\n",
      " 0.06703335 0.22298528 0.49696418 0.85599273 0.56936681 0.60455664\n",
      " 0.46540187 0.85029923 0.58179226 0.30590747 0.0801468  0.33585984\n",
      " 0.76701274 0.22103655 0.66329215 0.55269726 0.10526814 0.41951648] 0.4982010956540206 30\n"
     ]
    }
   ],
   "source": [
    "# Correct Solution:\n",
    "Z = np.random.random(size=30)\n",
    "Zmean = Z.mean()\n",
    "print(Z, Zmean, Z.size)"
   ]
  },
  {
   "cell_type": "markdown",
   "id": "2983690e",
   "metadata": {},
   "source": [
    "### 15. Create a 2d array with 1 on the border and 0 inside (★☆☆) NOT SOLVED !\n"
   ]
  },
  {
   "cell_type": "code",
   "execution_count": 19,
   "id": "bf758d9a",
   "metadata": {},
   "outputs": [],
   "source": [
    "# arr4 = np.arange(1,21).reshape(5,4)\n",
    "# arr4[arr4[1:4,1:3]] = 0 \n",
    "# arr4 # This code is Incorrect, due to a sily mistake !"
   ]
  },
  {
   "cell_type": "code",
   "execution_count": 20,
   "id": "258b837f",
   "metadata": {},
   "outputs": [
    {
     "data": {
      "text/plain": [
       "array([[1., 1., 1., 1., 1., 1., 1., 1., 1., 1.],\n",
       "       [1., 0., 0., 0., 0., 0., 0., 0., 0., 1.],\n",
       "       [1., 0., 0., 0., 0., 0., 0., 0., 0., 1.],\n",
       "       [1., 0., 0., 0., 0., 0., 0., 0., 0., 1.],\n",
       "       [1., 0., 0., 0., 0., 0., 0., 0., 0., 1.],\n",
       "       [1., 0., 0., 0., 0., 0., 0., 0., 0., 1.],\n",
       "       [1., 0., 0., 0., 0., 0., 0., 0., 0., 1.],\n",
       "       [1., 0., 0., 0., 0., 0., 0., 0., 0., 1.],\n",
       "       [1., 0., 0., 0., 0., 0., 0., 0., 0., 1.],\n",
       "       [1., 1., 1., 1., 1., 1., 1., 1., 1., 1.]])"
      ]
     },
     "execution_count": 20,
     "metadata": {},
     "output_type": "execute_result"
    }
   ],
   "source": [
    "# Correct Solution:\n",
    "Z = np.ones((10,10))\n",
    "Z[1:-1, 1:-1] = 0\n",
    "Z"
   ]
  },
  {
   "cell_type": "markdown",
   "id": "541af054",
   "metadata": {},
   "source": [
    "### 16. How to add a border (filled with 0's) around an existing array? (★☆☆) NOT SOLVED"
   ]
  },
  {
   "cell_type": "code",
   "execution_count": 21,
   "id": "e30954b3",
   "metadata": {},
   "outputs": [
    {
     "data": {
      "text/plain": [
       "array([[0., 0., 0., 0.],\n",
       "       [0., 0., 0., 0.],\n",
       "       [0., 0., 0., 0.],\n",
       "       [0., 0., 0., 0.]])"
      ]
     },
     "execution_count": 21,
     "metadata": {},
     "output_type": "execute_result"
    }
   ],
   "source": [
    "Z = np.zeros((4,4))\n",
    "Z"
   ]
  },
  {
   "cell_type": "code",
   "execution_count": 22,
   "id": "ca148c79",
   "metadata": {},
   "outputs": [
    {
     "data": {
      "text/plain": [
       "array([[0., 0., 0., 0., 0.],\n",
       "       [1., 1., 1., 1., 1.],\n",
       "       [1., 1., 1., 1., 1.],\n",
       "       [1., 1., 1., 1., 1.],\n",
       "       [0., 0., 0., 0., 0.]])"
      ]
     },
     "execution_count": 22,
     "metadata": {},
     "output_type": "execute_result"
    }
   ],
   "source": [
    "# Correct Solution: \n",
    "# Solution:1 (By using np.pad())\n",
    "# Z = np.ones((5,5))\n",
    "# Z = np.pad(Z, pad_width=1, mode='constant', constant_values=0)\n",
    "# Z\n",
    "# Soltuion:2 (By using fancy indexing)\n",
    "Z = np.ones((5,5))\n",
    "#Z[:,[0,-1]] = 0\n",
    "Z[[0,-1],:] = 0\n",
    "Z"
   ]
  },
  {
   "cell_type": "markdown",
   "id": "c32b9a70",
   "metadata": {},
   "source": [
    "### 17. What is the result of the following expression? (★☆☆) NOT UNDERSTOOD.."
   ]
  },
  {
   "cell_type": "code",
   "execution_count": 23,
   "id": "e74af1c2",
   "metadata": {},
   "outputs": [
    {
     "name": "stdout",
     "output_type": "stream",
     "text": [
      "nan\n",
      "False\n",
      "False\n",
      "nan\n"
     ]
    },
    {
     "data": {
      "text/plain": [
       "False"
      ]
     },
     "execution_count": 23,
     "metadata": {},
     "output_type": "execute_result"
    }
   ],
   "source": [
    "print(0 * np.nan)\n",
    "print(np.nan == np.nan)\n",
    "print(np.inf > np.nan)\n",
    "print(np.nan - np.nan)\n",
    "np.nan in set([np.nan])\n",
    "0.3 == 3 * 0.1"
   ]
  },
  {
   "cell_type": "markdown",
   "id": "98d2a843",
   "metadata": {},
   "source": [
    "### 18. Create a 5x5 matrix with values 1,2,3,4 just below the diagonal (★☆☆) NOT SOLVED !!\n"
   ]
  },
  {
   "cell_type": "code",
   "execution_count": 24,
   "id": "feeb6be2",
   "metadata": {},
   "outputs": [
    {
     "data": {
      "text/plain": [
       "array([[0, 0, 0, 0, 0],\n",
       "       [1, 0, 0, 0, 0],\n",
       "       [0, 2, 0, 0, 0],\n",
       "       [0, 0, 3, 0, 0],\n",
       "       [0, 0, 0, 4, 0]])"
      ]
     },
     "execution_count": 24,
     "metadata": {},
     "output_type": "execute_result"
    }
   ],
   "source": [
    "# Correct Solution:\n",
    "Z = np.diag(1+np.arange(4), k=-1) # Not Understood !\n",
    "Z"
   ]
  },
  {
   "cell_type": "code",
   "execution_count": 25,
   "id": "96c51b5c",
   "metadata": {},
   "outputs": [
    {
     "data": {
      "text/plain": [
       "array([[ 1,  2,  3,  4,  5],\n",
       "       [ 6,  7,  8,  9, 10],\n",
       "       [11, 12, 13, 14, 15],\n",
       "       [16, 17, 18, 19, 20],\n",
       "       [21, 22, 23, 24, 25]])"
      ]
     },
     "execution_count": 25,
     "metadata": {},
     "output_type": "execute_result"
    }
   ],
   "source": [
    "Z = np.arange(1, 26).reshape(5,5)\n",
    "Z"
   ]
  },
  {
   "cell_type": "code",
   "execution_count": 26,
   "id": "d345b29d",
   "metadata": {},
   "outputs": [
    {
     "data": {
      "text/plain": [
       "array([0, 1, 2, 3])"
      ]
     },
     "execution_count": 26,
     "metadata": {},
     "output_type": "execute_result"
    }
   ],
   "source": [
    "Z = np.arange(4)\n",
    "Z"
   ]
  },
  {
   "cell_type": "markdown",
   "id": "2a8cc9e6",
   "metadata": {},
   "source": [
    "### 19. Create a 8x8 matrix and fill it with a checkerboard pattern (★☆☆) NOT SOLVED !!\n"
   ]
  },
  {
   "cell_type": "code",
   "execution_count": 27,
   "id": "e5c07267",
   "metadata": {},
   "outputs": [
    {
     "name": "stdout",
     "output_type": "stream",
     "text": [
      "[[0 1 0 1 0 1 0 1]\n",
      " [1 0 1 0 1 0 1 0]\n",
      " [0 1 0 1 0 1 0 1]\n",
      " [1 0 1 0 1 0 1 0]\n",
      " [0 1 0 1 0 1 0 1]\n",
      " [1 0 1 0 1 0 1 0]\n",
      " [0 1 0 1 0 1 0 1]\n",
      " [1 0 1 0 1 0 1 0]]\n"
     ]
    }
   ],
   "source": [
    "# Correct Solution:\n",
    "import numpy as np\n",
    "\n",
    "def create_checkerboard(n):\n",
    "    # Create an n x n checkerboard pattern matrix.\n",
    "    checkerboard = np.zeros((n,n), dtype=int)\n",
    "    \n",
    "    for i in range(n): # This outer loop Iterate over Rows.\n",
    "        for j in range(n): # This inner loop Iterate over columns.\n",
    "            # A cell is 1 (black) is the sum of it's indices, else 0 (white).\n",
    "            checkerboard[i,j] = (i+j) % 2\n",
    "    return checkerboard\n",
    "\n",
    "# Generate an 8x8 checkerboard matrix.\n",
    "checkerboard_matrix = create_checkerboard(8)\n",
    "print(checkerboard_matrix)"
   ]
  },
  {
   "cell_type": "markdown",
   "id": "5a45e4aa",
   "metadata": {},
   "source": [
    "### 20. Consider a (6,7,8) shape array, what is the index (x,y,z) of the 100th element? (★☆☆) NOT SOLVED !!!\n"
   ]
  },
  {
   "cell_type": "code",
   "execution_count": 28,
   "id": "a0ed8f2d",
   "metadata": {},
   "outputs": [
    {
     "data": {
      "text/plain": [
       "(1, 5, 3)"
      ]
     },
     "execution_count": 28,
     "metadata": {},
     "output_type": "execute_result"
    }
   ],
   "source": [
    "Z = np.ones((6,7,8))\n",
    "np.unravel_index(99,(6,7,8)) # Not Understood !"
   ]
  },
  {
   "cell_type": "markdown",
   "id": "ca9fa167",
   "metadata": {},
   "source": [
    "### 21. Create a checkerboard 8x8 matrix using the tile function (★☆☆) NOT SOLVED !"
   ]
  },
  {
   "cell_type": "code",
   "execution_count": 29,
   "id": "80029276",
   "metadata": {},
   "outputs": [],
   "source": [
    "Z = np.tile(np.array([[1, 0], [0, 1]]),(4,4))"
   ]
  },
  {
   "cell_type": "code",
   "execution_count": 30,
   "id": "fa654a2d",
   "metadata": {},
   "outputs": [
    {
     "data": {
      "text/plain": [
       "array([[1, 0, 1, 0, 1, 0, 1, 0],\n",
       "       [0, 1, 0, 1, 0, 1, 0, 1],\n",
       "       [1, 0, 1, 0, 1, 0, 1, 0],\n",
       "       [0, 1, 0, 1, 0, 1, 0, 1],\n",
       "       [1, 0, 1, 0, 1, 0, 1, 0],\n",
       "       [0, 1, 0, 1, 0, 1, 0, 1],\n",
       "       [1, 0, 1, 0, 1, 0, 1, 0],\n",
       "       [0, 1, 0, 1, 0, 1, 0, 1]])"
      ]
     },
     "execution_count": 30,
     "metadata": {},
     "output_type": "execute_result"
    }
   ],
   "source": [
    "Z"
   ]
  },
  {
   "cell_type": "markdown",
   "id": "0b57eaa0",
   "metadata": {},
   "source": [
    "### 22. Normalize a 5x5 random matrix (★☆☆), Have no Idea how to solve !"
   ]
  },
  {
   "cell_type": "code",
   "execution_count": 31,
   "id": "5b0db043",
   "metadata": {},
   "outputs": [
    {
     "data": {
      "text/plain": [
       "array([[ 0.20784131, -0.38775309, -0.05903842, -1.96320106,  0.53410875],\n",
       "       [ 1.37824318,  0.08182256, -0.34148872, -0.5821434 ,  1.8476154 ],\n",
       "       [ 0.59382871, -1.51756778,  1.35894138, -1.31710281, -0.46507912],\n",
       "       [-1.60364888,  0.13407875,  0.26519301,  0.03714799,  1.2024745 ],\n",
       "       [ 0.8095318 ,  0.76350578, -1.07867211, -0.92921656,  1.03057882]])"
      ]
     },
     "execution_count": 31,
     "metadata": {},
     "output_type": "execute_result"
    }
   ],
   "source": [
    "# Correct Solution:\n",
    "Z = np.random.random((5,5))\n",
    "Z = (Z - np.mean(Z)) / (np.std(Z))\n",
    "Z"
   ]
  },
  {
   "cell_type": "markdown",
   "id": "5e3059c8",
   "metadata": {},
   "source": [
    "### 23. Create a custom dtype that describes a color as four unsigned bytes (RGBA) Not Understood at all..."
   ]
  },
  {
   "cell_type": "code",
   "execution_count": 32,
   "id": "51c72cf9",
   "metadata": {},
   "outputs": [],
   "source": [
    "gba_dtype = np.dtype([('R', np.uint8),   # Red channel\n",
    "                       ('G', np.uint8),   # Green channel\n",
    "                       ('B', np.uint8),   # Blue channel\n",
    "                       ('A', np.uint8)])  # Alpha channel"
   ]
  },
  {
   "cell_type": "code",
   "execution_count": 33,
   "id": "f41d860a",
   "metadata": {},
   "outputs": [
    {
     "data": {
      "text/plain": [
       "dtype([('R', 'u1'), ('G', 'u1'), ('B', 'u1'), ('A', 'u1')])"
      ]
     },
     "execution_count": 33,
     "metadata": {},
     "output_type": "execute_result"
    }
   ],
   "source": [
    "gba_dtype"
   ]
  },
  {
   "cell_type": "markdown",
   "id": "94132e41",
   "metadata": {},
   "source": [
    "### 24. Multiply a 5x3 matrix by a 3x2 matrix (real matrix product) (★☆☆) Encountered Error !\n"
   ]
  },
  {
   "cell_type": "code",
   "execution_count": 34,
   "id": "0ab6931b",
   "metadata": {},
   "outputs": [
    {
     "name": "stdout",
     "output_type": "stream",
     "text": [
      "[[ 1  2  3]\n",
      " [ 4  5  6]\n",
      " [ 7  8  9]\n",
      " [10 11 12]\n",
      " [13 14 15]]\n",
      "[[1 2]\n",
      " [3 4]\n",
      " [5 6]]\n"
     ]
    }
   ],
   "source": [
    "a = np.arange(1, 16).reshape(5,3)\n",
    "b = np.arange(1, 7).reshape(3,2)\n",
    "print(a)\n",
    "print(b)"
   ]
  },
  {
   "cell_type": "code",
   "execution_count": 35,
   "id": "da5bd93e",
   "metadata": {},
   "outputs": [
    {
     "data": {
      "text/plain": [
       "array([[ 22,  28],\n",
       "       [ 49,  64],\n",
       "       [ 76, 100],\n",
       "       [103, 136],\n",
       "       [130, 172]])"
      ]
     },
     "execution_count": 35,
     "metadata": {},
     "output_type": "execute_result"
    }
   ],
   "source": [
    "res = np.dot(a, b)\n",
    "res"
   ]
  },
  {
   "cell_type": "markdown",
   "id": "03df860b",
   "metadata": {},
   "source": [
    "### 25. Given a 1D array, negate all elements which are between 3 and 8, in place. (★☆☆), NOT SOLVED\n"
   ]
  },
  {
   "cell_type": "code",
   "execution_count": 36,
   "id": "73cf9c78",
   "metadata": {},
   "outputs": [
    {
     "data": {
      "text/plain": [
       "array([ 0,  1,  2,  3, -1, -1, -1, -1,  8,  9, 10])"
      ]
     },
     "execution_count": 36,
     "metadata": {},
     "output_type": "execute_result"
    }
   ],
   "source": [
    "Z = np.arange(11)\n",
    "Z[(Z > 3) & (Z < 8)] = -1\n",
    "Z"
   ]
  },
  {
   "cell_type": "code",
   "execution_count": 37,
   "id": "ad2d284c",
   "metadata": {},
   "outputs": [
    {
     "data": {
      "text/plain": [
       "15"
      ]
     },
     "execution_count": 37,
     "metadata": {},
     "output_type": "execute_result"
    }
   ],
   "source": [
    "a = [1, 2, 3, 4, 5]\n",
    "a.append(34)\n",
    "a.pop()\n",
    "sum(a)"
   ]
  },
  {
   "cell_type": "markdown",
   "id": "ae887d56",
   "metadata": {},
   "source": [
    "### 26. What is the output of the following script? (★☆☆)\n"
   ]
  },
  {
   "cell_type": "code",
   "execution_count": 38,
   "id": "c3d951fe",
   "metadata": {},
   "outputs": [
    {
     "name": "stdout",
     "output_type": "stream",
     "text": [
      "9\n",
      "10\n"
     ]
    }
   ],
   "source": [
    "print(sum(range(5),-1))\n",
    "from numpy import *\n",
    "print(sum(range(5),-1))"
   ]
  },
  {
   "cell_type": "markdown",
   "id": "42fc457a",
   "metadata": {},
   "source": [
    "### 27. Consider an integer vector Z, which of these expressions are legal? (★☆☆) No idea !"
   ]
  },
  {
   "cell_type": "code",
   "execution_count": 39,
   "id": "8985564c",
   "metadata": {},
   "outputs": [
    {
     "data": {
      "text/plain": [
       "array([1, 2, 3, 4, 5])"
      ]
     },
     "execution_count": 39,
     "metadata": {},
     "output_type": "execute_result"
    }
   ],
   "source": [
    "Z = 1 + np.arange(5)\n",
    "Z"
   ]
  },
  {
   "cell_type": "code",
   "execution_count": 40,
   "id": "4044fcca",
   "metadata": {},
   "outputs": [
    {
     "name": "stdout",
     "output_type": "stream",
     "text": [
      "[   1    4   27  256 3125]\n",
      "[ 1  2  4  8 16]\n",
      "[False False False False False]\n",
      "[0.+1.j 0.+2.j 0.+3.j 0.+4.j 0.+5.j]\n",
      "[1. 2. 3. 4. 5.]\n"
     ]
    }
   ],
   "source": [
    "print(Z**Z)\n",
    "print(2 << Z >> 2)\n",
    "print(Z <- Z) # Illegal Expression\n",
    "print(1j * Z)\n",
    "print(Z/1/1)\n",
    "# print(Z<Z>Z) # Illegal Expression"
   ]
  },
  {
   "cell_type": "markdown",
   "id": "0e0b557f",
   "metadata": {},
   "source": [
    "### 28. What are the result of the following expressions? (★☆☆) No idea !\n"
   ]
  },
  {
   "cell_type": "code",
   "execution_count": 41,
   "id": "bc5ac2d7",
   "metadata": {},
   "outputs": [
    {
     "name": "stdout",
     "output_type": "stream",
     "text": [
      "nan\n",
      "0\n",
      "[-9.22337204e+18]\n"
     ]
    },
    {
     "name": "stderr",
     "output_type": "stream",
     "text": [
      "/tmp/ipykernel_5115/3912170336.py:1: RuntimeWarning: invalid value encountered in divide\n",
      "  print(np.array(0) / np.array(0))\n",
      "/tmp/ipykernel_5115/3912170336.py:2: RuntimeWarning: divide by zero encountered in floor_divide\n",
      "  print(np.array(0) // np.array(0))\n",
      "/tmp/ipykernel_5115/3912170336.py:3: RuntimeWarning: invalid value encountered in cast\n",
      "  print(np.array([np.nan]).astype(int).astype(float))\n"
     ]
    }
   ],
   "source": [
    "print(np.array(0) / np.array(0))\n",
    "print(np.array(0) // np.array(0))\n",
    "print(np.array([np.nan]).astype(int).astype(float))"
   ]
  },
  {
   "cell_type": "markdown",
   "id": "1d295cf3",
   "metadata": {},
   "source": [
    "### 29. How to round away from zero a float array ? (★☆☆) No idea !\n"
   ]
  },
  {
   "cell_type": "code",
   "execution_count": 42,
   "id": "8dd2395d",
   "metadata": {},
   "outputs": [
    {
     "name": "stdout",
     "output_type": "stream",
     "text": [
      "Original Values: [-8.84227444  0.18628599 -4.89772605 -4.8617882   3.57180637  0.56031895\n",
      "  4.13544242  4.59518316 -4.70500526  8.53538364]\n",
      "Round Values: [-9.  1. -5. -5.  4.  1.  5.  5. -5.  9.]\n"
     ]
    }
   ],
   "source": [
    "Z = np.random.uniform(-10,10,10)\n",
    "print(f'Original Values: {Z}') \n",
    "print(f'Round Values: {np.copysign(np.ceil(np.abs(Z)),Z)}')"
   ]
  },
  {
   "cell_type": "markdown",
   "id": "2fd6e0d6",
   "metadata": {},
   "source": [
    "### 30. How to find common values between two arrays? (★☆☆)  Not Solved !\n"
   ]
  },
  {
   "cell_type": "code",
   "execution_count": 43,
   "id": "46d743da",
   "metadata": {},
   "outputs": [],
   "source": [
    "a, b = np.random.randint(0, 10, size=10), np.random.randint(0, 10, size=10)\n",
    "a = a.reshape(2,5)"
   ]
  },
  {
   "cell_type": "code",
   "execution_count": 44,
   "id": "8194372d",
   "metadata": {},
   "outputs": [
    {
     "name": "stdout",
     "output_type": "stream",
     "text": [
      "[0 1 2 5 7 8 9]\n"
     ]
    }
   ],
   "source": [
    "print(np.intersect1d(a,b))"
   ]
  },
  {
   "cell_type": "markdown",
   "id": "df73f12d",
   "metadata": {},
   "source": [
    "### 31. How to ignore all numpy warnings (not recommended)? (★☆☆)\n"
   ]
  },
  {
   "cell_type": "code",
   "execution_count": 45,
   "id": "38f6d5a3",
   "metadata": {},
   "outputs": [],
   "source": [
    "import warnings\n",
    "warnings.filterwarnings('ignore')"
   ]
  },
  {
   "cell_type": "markdown",
   "id": "77217df0",
   "metadata": {},
   "source": [
    "### 32. Is the following expressions true? (★☆☆)\n"
   ]
  },
  {
   "cell_type": "code",
   "execution_count": 46,
   "id": "a0f22509",
   "metadata": {},
   "outputs": [
    {
     "data": {
      "text/plain": [
       "False"
      ]
     },
     "execution_count": 46,
     "metadata": {},
     "output_type": "execute_result"
    }
   ],
   "source": [
    "np.sqrt(-1) == np.emath.sqrt(-1)"
   ]
  },
  {
   "cell_type": "markdown",
   "id": "66c610ad",
   "metadata": {},
   "source": [
    "### 33. How to get the dates of yesterday, today and tomorrow? (★☆☆) Not Solved !\n"
   ]
  },
  {
   "cell_type": "code",
   "execution_count": 47,
   "id": "6bfa2801",
   "metadata": {},
   "outputs": [],
   "source": [
    "yesterday = np.datetime64('today') - np.timedelta64(1)\n",
    "today = np.datetime64('today')\n",
    "tommorow = np.datetime64('today') + np.timedelta64(1)"
   ]
  },
  {
   "cell_type": "code",
   "execution_count": 48,
   "id": "14f2e649",
   "metadata": {},
   "outputs": [
    {
     "data": {
      "text/plain": [
       "(numpy.datetime64('2024-06-12'),\n",
       " numpy.datetime64('2024-06-13'),\n",
       " numpy.datetime64('2024-06-14'))"
      ]
     },
     "execution_count": 48,
     "metadata": {},
     "output_type": "execute_result"
    }
   ],
   "source": [
    "yesterday, today, tommorow"
   ]
  },
  {
   "cell_type": "markdown",
   "id": "31a13a32",
   "metadata": {},
   "source": [
    "### 34. How to get all the dates corresponding to the month of July 2016? (★★☆) No Idea !\n"
   ]
  },
  {
   "cell_type": "code",
   "execution_count": 49,
   "id": "8d5ce278",
   "metadata": {},
   "outputs": [
    {
     "data": {
      "text/plain": [
       "array(['2016-07-01', '2016-07-02', '2016-07-03', '2016-07-04',\n",
       "       '2016-07-05', '2016-07-06', '2016-07-07', '2016-07-08',\n",
       "       '2016-07-09', '2016-07-10', '2016-07-11', '2016-07-12',\n",
       "       '2016-07-13', '2016-07-14', '2016-07-15', '2016-07-16',\n",
       "       '2016-07-17', '2016-07-18', '2016-07-19', '2016-07-20',\n",
       "       '2016-07-21', '2016-07-22', '2016-07-23', '2016-07-24',\n",
       "       '2016-07-25', '2016-07-26', '2016-07-27', '2016-07-28',\n",
       "       '2016-07-29', '2016-07-30', '2016-07-31'], dtype='datetime64[D]')"
      ]
     },
     "execution_count": 49,
     "metadata": {},
     "output_type": "execute_result"
    }
   ],
   "source": [
    "Z = np.arange('2016-07', '2016-08', dtype='datetime64[D]')\n",
    "Z"
   ]
  },
  {
   "cell_type": "markdown",
   "id": "4903171a",
   "metadata": {},
   "source": [
    "### 35. How to compute ((A+B)*(-A/2)) in place (without copy)? (★★☆)\n"
   ]
  },
  {
   "cell_type": "code",
   "execution_count": 50,
   "id": "1caff6ab",
   "metadata": {},
   "outputs": [],
   "source": [
    "a, b = np.random.random(20), np.random.random(20)"
   ]
  },
  {
   "cell_type": "code",
   "execution_count": 51,
   "id": "3303e364",
   "metadata": {},
   "outputs": [],
   "source": [
    "res = ((a+b)*(-a/2))"
   ]
  },
  {
   "cell_type": "code",
   "execution_count": 52,
   "id": "6f62e949",
   "metadata": {},
   "outputs": [
    {
     "data": {
      "text/plain": [
       "array([-0.45816009, -0.46099149, -0.30825701, -0.54832105, -0.20157495,\n",
       "       -0.2034395 , -0.00564365, -0.47912674, -0.1519036 , -0.11062155,\n",
       "       -0.33922444, -0.50939524, -0.13246275, -0.18508188, -0.00079414,\n",
       "       -0.24929826, -0.45209381, -0.08790825, -0.11507146, -0.21294534])"
      ]
     },
     "execution_count": 52,
     "metadata": {},
     "output_type": "execute_result"
    }
   ],
   "source": [
    "res # Incorrect Solution !"
   ]
  },
  {
   "cell_type": "code",
   "execution_count": 53,
   "id": "4b286baf",
   "metadata": {},
   "outputs": [
    {
     "data": {
      "text/plain": [
       "array([-1.5, -1.5, -1.5])"
      ]
     },
     "execution_count": 53,
     "metadata": {},
     "output_type": "execute_result"
    }
   ],
   "source": [
    "# Correct Solution:\n",
    "A, B = np.ones(3)*1, np.ones(3)*2\n",
    "np.add(A, B, out=B)\n",
    "np.divide(A, 2, out=A)\n",
    "np.negative(A, out=A)\n",
    "np.multiply(A, B, out=A)"
   ]
  },
  {
   "cell_type": "markdown",
   "id": "7ca83be6",
   "metadata": {},
   "source": [
    "### 36. Extract the integer part of a random array of positive numbers using 4 different methods (★★☆) No Idea !\n"
   ]
  },
  {
   "cell_type": "code",
   "execution_count": 54,
   "id": "4da0a725",
   "metadata": {},
   "outputs": [
    {
     "name": "stdout",
     "output_type": "stream",
     "text": [
      "Before Extraction: [7.53458173 2.26246156 3.78778766 2.80921997 7.31965667 0.31635752\n",
      " 1.09460238 9.00025092 1.32902714 9.51669066]\n",
      "After Extraction:\n",
      "[7. 2. 3. 2. 7. 0. 1. 9. 1. 9.]\n",
      "[7. 2. 3. 2. 7. 0. 1. 9. 1. 9.]\n",
      "[7. 2. 3. 2. 7. 0. 1. 9. 1. 9.]\n",
      "[7 2 3 2 7 0 1 9 1 9]\n",
      "[7. 2. 3. 2. 7. 0. 1. 9. 1. 9.]\n"
     ]
    }
   ],
   "source": [
    "Z = np.random.uniform(0,10,size=10)\n",
    "print(f'Before Extraction: {Z}')\n",
    "print('After Extraction:')\n",
    "print(Z-Z%1)\n",
    "print(Z // 1)\n",
    "print(np.floor(Z))\n",
    "print(Z.astype(int))\n",
    "print(np.trunc(Z))"
   ]
  },
  {
   "cell_type": "markdown",
   "id": "3dea0159",
   "metadata": {},
   "source": [
    "### 37. Create a 5x5 matrix with row values ranging from 0 to 4 (★★☆)\n"
   ]
  },
  {
   "cell_type": "code",
   "execution_count": 55,
   "id": "a504980b",
   "metadata": {},
   "outputs": [
    {
     "data": {
      "text/plain": [
       "array([[0., 1., 2., 3., 4.],\n",
       "       [0., 1., 2., 3., 4.],\n",
       "       [0., 1., 2., 3., 4.],\n",
       "       [0., 1., 2., 3., 4.],\n",
       "       [0., 1., 2., 3., 4.]])"
      ]
     },
     "execution_count": 55,
     "metadata": {},
     "output_type": "execute_result"
    }
   ],
   "source": [
    "Z = np.ones((5,5))\n",
    "Z[:,:] = np.arange(0,5)\n",
    "Z"
   ]
  },
  {
   "cell_type": "code",
   "execution_count": 56,
   "id": "7ba60f94",
   "metadata": {},
   "outputs": [
    {
     "data": {
      "text/plain": [
       "array([[0, 1, 2, 3, 4],\n",
       "       [0, 1, 2, 3, 4],\n",
       "       [0, 1, 2, 3, 4],\n",
       "       [0, 1, 2, 3, 4],\n",
       "       [0, 1, 2, 3, 4]])"
      ]
     },
     "execution_count": 56,
     "metadata": {},
     "output_type": "execute_result"
    }
   ],
   "source": [
    "# Second Solution:\n",
    "np.tile(np.arange(5), (5,1))"
   ]
  },
  {
   "cell_type": "markdown",
   "id": "277565ad",
   "metadata": {},
   "source": [
    "\n",
    "### 38. Consider a generator function that generates 10 integers and use it to build an array (★☆☆)\n"
   ]
  },
  {
   "cell_type": "code",
   "execution_count": 57,
   "id": "c468bdbf",
   "metadata": {},
   "outputs": [
    {
     "data": {
      "text/plain": [
       "array([[ 2, 10,  1,  7,  0],\n",
       "       [ 3,  5,  6,  9,  4]])"
      ]
     },
     "execution_count": 57,
     "metadata": {},
     "output_type": "execute_result"
    }
   ],
   "source": [
    "Z = np.random.randint(0, 11, size=10)\n",
    "Z = Z.reshape(2,5)\n",
    "Z # Incorrect Solution !"
   ]
  },
  {
   "cell_type": "code",
   "execution_count": 58,
   "id": "d5786493",
   "metadata": {},
   "outputs": [
    {
     "name": "stdout",
     "output_type": "stream",
     "text": [
      "[0. 1. 2. 3. 4. 5. 6. 7. 8. 9.]\n"
     ]
    }
   ],
   "source": [
    "# Correct Solution:\n",
    "def generator():\n",
    "    for i in range(10):\n",
    "        yield i\n",
    "Z = np.fromiter(generator(), dtype=float, count=-1)\n",
    "print(Z)"
   ]
  },
  {
   "cell_type": "markdown",
   "id": "4be90129",
   "metadata": {},
   "source": [
    "### 39. Create a vector of size 10 with values ranging from 0 to 1, both excluded (★★☆)\n"
   ]
  },
  {
   "cell_type": "code",
   "execution_count": 59,
   "id": "82049f35",
   "metadata": {},
   "outputs": [
    {
     "data": {
      "text/plain": [
       "array([0.06952776, 0.84205411, 0.90411   , 0.20191042, 0.02133085,\n",
       "       0.46266377, 0.26214299, 0.68020669, 0.02224026, 0.57014864])"
      ]
     },
     "execution_count": 59,
     "metadata": {},
     "output_type": "execute_result"
    }
   ],
   "source": [
    "Z = np.random.random(size=10)\n",
    "Z # Incorrect Solution !"
   ]
  },
  {
   "cell_type": "code",
   "execution_count": 60,
   "id": "5f2e2fce",
   "metadata": {},
   "outputs": [
    {
     "data": {
      "text/plain": [
       "array([0.09090909, 0.18181818, 0.27272727, 0.36363636, 0.45454545,\n",
       "       0.54545455, 0.63636364, 0.72727273, 0.81818182, 0.90909091])"
      ]
     },
     "execution_count": 60,
     "metadata": {},
     "output_type": "execute_result"
    }
   ],
   "source": [
    "# Correct Solution:\n",
    "Z = np.linspace(0,1,num=11,endpoint=False)[1:]\n",
    "Z"
   ]
  },
  {
   "cell_type": "markdown",
   "id": "ec94c1b5",
   "metadata": {},
   "source": [
    "### 40. Create a random vector of size 10 and sort it (★★☆)\n"
   ]
  },
  {
   "cell_type": "code",
   "execution_count": 61,
   "id": "f9c260fd",
   "metadata": {},
   "outputs": [
    {
     "name": "stdout",
     "output_type": "stream",
     "text": [
      "Before Sort: [0.39952128 0.72457586 0.26748138 0.98896784 0.34840135 0.08552631\n",
      " 0.20428907 0.97722088 0.22661435 0.43040694]\n",
      "\n",
      "After Sort: [0.08552631 0.20428907 0.22661435 0.26748138 0.34840135 0.39952128\n",
      " 0.43040694 0.72457586 0.97722088 0.98896784]\n"
     ]
    }
   ],
   "source": [
    "Z = random.random(10)\n",
    "print(f'Before Sort: {Z}')\n",
    "Z.sort()\n",
    "print()\n",
    "print(f'After Sort: {Z}')"
   ]
  },
  {
   "cell_type": "markdown",
   "id": "0bc60729",
   "metadata": {},
   "source": [
    "\n",
    "### 41. How to sum a small array faster than np.sum? (★★☆) No Idea !\n"
   ]
  },
  {
   "cell_type": "code",
   "execution_count": 62,
   "id": "254ef0f8",
   "metadata": {},
   "outputs": [
    {
     "data": {
      "text/plain": [
       "45"
      ]
     },
     "execution_count": 62,
     "metadata": {},
     "output_type": "execute_result"
    }
   ],
   "source": [
    "a = np.arange(10).reshape(5,2)\n",
    "res = np.sum(a)\n",
    "res # Incorrect Solution ! (same output..)"
   ]
  },
  {
   "cell_type": "code",
   "execution_count": 63,
   "id": "e7e5424d",
   "metadata": {},
   "outputs": [
    {
     "data": {
      "text/plain": [
       "45"
      ]
     },
     "execution_count": 63,
     "metadata": {},
     "output_type": "execute_result"
    }
   ],
   "source": [
    "# Correct Solution:\n",
    "Z = np.arange(10)\n",
    "np.add.reduce(Z)"
   ]
  },
  {
   "cell_type": "markdown",
   "id": "ce4ce585",
   "metadata": {},
   "source": [
    "### 42. Consider two random array A and B, check if they are equal (★★☆) No Idea ! \n"
   ]
  },
  {
   "cell_type": "code",
   "execution_count": 64,
   "id": "964b37b9",
   "metadata": {},
   "outputs": [
    {
     "name": "stdout",
     "output_type": "stream",
     "text": [
      "[ 3  1  8  9 14  4 16  8 12  3] []\n"
     ]
    }
   ],
   "source": [
    "a = np.random.randint(0,20,size=10)\n",
    "b = np.random.randint(0,20,size=10)\n",
    "print(a,b[a == b]) # Incorrect Solution !"
   ]
  },
  {
   "cell_type": "code",
   "execution_count": 65,
   "id": "aa447a96",
   "metadata": {},
   "outputs": [
    {
     "name": "stdout",
     "output_type": "stream",
     "text": [
      "False\n"
     ]
    }
   ],
   "source": [
    "# Correct Solution\n",
    "A, B = np.random.randint(0,2,size=5), np.random.randint(0,2,size=5)\n",
    "# Assuming identical shapes of the arrays\n",
    "equals = np.allclose(A,B)\n",
    "print(equals)"
   ]
  },
  {
   "cell_type": "markdown",
   "id": "bcf99fb5",
   "metadata": {},
   "source": [
    "### 43. Make an array immutable (read-only) (★★☆) Not Solved !"
   ]
  },
  {
   "cell_type": "code",
   "execution_count": 66,
   "id": "76f7379d",
   "metadata": {},
   "outputs": [
    {
     "ename": "ValueError",
     "evalue": "assignment destination is read-only",
     "output_type": "error",
     "traceback": [
      "\u001b[0;31m---------------------------------------------------------------------------\u001b[0m",
      "\u001b[0;31mValueError\u001b[0m                                Traceback (most recent call last)",
      "Cell \u001b[0;32mIn[66], line 4\u001b[0m\n\u001b[1;32m      2\u001b[0m Z \u001b[38;5;241m=\u001b[39m np\u001b[38;5;241m.\u001b[39mones((\u001b[38;5;241m3\u001b[39m,\u001b[38;5;241m3\u001b[39m))\n\u001b[1;32m      3\u001b[0m Z\u001b[38;5;241m.\u001b[39mflags\u001b[38;5;241m.\u001b[39mwriteable \u001b[38;5;241m=\u001b[39m \u001b[38;5;28;01mFalse\u001b[39;00m\n\u001b[0;32m----> 4\u001b[0m \u001b[43mZ\u001b[49m\u001b[43m[\u001b[49m\u001b[43m:\u001b[49m\u001b[43m,\u001b[49m\u001b[38;5;241;43m-\u001b[39;49m\u001b[38;5;241;43m1\u001b[39;49m\u001b[43m]\u001b[49m \u001b[38;5;241m=\u001b[39m \u001b[38;5;241m4\u001b[39m\n\u001b[1;32m      5\u001b[0m Z \u001b[38;5;66;03m# not Z has became immutable !\u001b[39;00m\n",
      "\u001b[0;31mValueError\u001b[0m: assignment destination is read-only"
     ]
    }
   ],
   "source": [
    "# Solution:\n",
    "Z = np.ones((3,3))\n",
    "Z.flags.writeable = False\n",
    "Z[:,-1] = 4\n",
    "Z # not Z has became immutable !"
   ]
  },
  {
   "cell_type": "markdown",
   "id": "38db55a3",
   "metadata": {},
   "source": [
    "### 44. Consider a random 10x2 matrix representing cartesian coordinates, convert them to polar coordinates (★★☆) No Idea !"
   ]
  },
  {
   "cell_type": "code",
   "execution_count": null,
   "id": "503a9b8d",
   "metadata": {},
   "outputs": [],
   "source": [
    "Z = random.random((10,2))\n",
    "Z"
   ]
  },
  {
   "cell_type": "code",
   "execution_count": null,
   "id": "97f49b4e",
   "metadata": {},
   "outputs": [],
   "source": [
    "X, Y = Z[:,[0]], Z[:,[1]]\n",
    "R = np.sqrt(X**2 + Y**2)\n",
    "T = np.arctan2(Y,X)\n",
    "print(R)\n",
    "print()\n",
    "print(T)"
   ]
  },
  {
   "cell_type": "markdown",
   "id": "217ef713",
   "metadata": {},
   "source": [
    "### 45. Create random vector of size 10 and replace the maximum value by 0 (★★☆)\n"
   ]
  },
  {
   "cell_type": "code",
   "execution_count": null,
   "id": "b9d9a007",
   "metadata": {},
   "outputs": [],
   "source": [
    "Z = np.arange(0,11)\n",
    "Z[np.max(Z)] = 0\n",
    "Z # Incorrect Solution !"
   ]
  },
  {
   "cell_type": "code",
   "execution_count": null,
   "id": "bccfc93b",
   "metadata": {},
   "outputs": [],
   "source": [
    "# Correct Solution:\n",
    "Z = np.random.random(10)\n",
    "Z[Z.argmax()] = 0\n",
    "print(Z)"
   ]
  },
  {
   "cell_type": "markdown",
   "id": "cc021a8c",
   "metadata": {},
   "source": [
    "### 46. Create a structured array with `x` and `y` coordinates covering the [0,1]x[0,1] area (★★☆) No Idea, how to solve !"
   ]
  },
  {
   "cell_type": "code",
   "execution_count": null,
   "id": "35d4e5c0",
   "metadata": {},
   "outputs": [],
   "source": [
    "# Solution\n",
    "Z = np.zeros((5,5),[('x',float), ('y',float)])\n",
    "Z['x'], Z['y'] = np.meshgrid(np.linspace(0,1,num=5), np.linspace(0,1,num=5))\n",
    "Z"
   ]
  },
  {
   "cell_type": "markdown",
   "id": "03326db4",
   "metadata": {},
   "source": [
    "### 47. Given two arrays, X and Y, construct the Cauchy matrix C (Cij =1/(xi - yj)) (★★☆) No Idea, how to solve !\n"
   ]
  },
  {
   "cell_type": "code",
   "execution_count": null,
   "id": "8f544143",
   "metadata": {},
   "outputs": [],
   "source": [
    "X = np.arange(8)\n",
    "Y = X + 0.5\n",
    "C = 1.0 / np.subtract.outer(X,Y)\n",
    "print(np.linalg.det(C))"
   ]
  },
  {
   "cell_type": "markdown",
   "id": "55f8c6e0",
   "metadata": {},
   "source": [
    "\n",
    "### 48. Print the minimum and maximum representable value for each numpy scalar type (★★☆)\n"
   ]
  },
  {
   "cell_type": "code",
   "execution_count": null,
   "id": "7a96aafd",
   "metadata": {},
   "outputs": [],
   "source": [
    "# Solution:\n",
    "for dtype in [np.int8, np.int32, np.int64]:\n",
    "    print(np.iinfo(dtype).min)\n",
    "    print(np.iinfo(dtype).max)\n",
    "for dtype in [np.float32, np.float64]:\n",
    "    print(np.finfo(dtype).min)\n",
    "    print(np.finfo(dtype).max)\n",
    "    print(np.finfo(dtype).eps)"
   ]
  },
  {
   "cell_type": "markdown",
   "id": "37b6112c",
   "metadata": {},
   "source": [
    "\n",
    "### 49. How to print all the values of an array? (★★☆)\n"
   ]
  },
  {
   "cell_type": "code",
   "execution_count": null,
   "id": "c1cdf48d",
   "metadata": {},
   "outputs": [],
   "source": [
    "# # Solution:\n",
    "np.set_printoptions(threshold=float('inf'))\n",
    "Z = np.zeros((40,40))\n",
    "print(Z)"
   ]
  },
  {
   "cell_type": "markdown",
   "id": "948dfd81",
   "metadata": {},
   "source": [
    "### 50. How to find the closest value (to a given scalar) in a vector? (★★☆), Don't know how to solve!\n"
   ]
  },
  {
   "cell_type": "code",
   "execution_count": null,
   "id": "bbda3a0c",
   "metadata": {},
   "outputs": [],
   "source": [
    "Z = np.arange(100)\n",
    "V = np.random.uniform(0,100)\n",
    "index = (np.abs(Z-V)).argmin()\n",
    "print(Z[index])"
   ]
  },
  {
   "cell_type": "markdown",
   "id": "d5fd78e0",
   "metadata": {},
   "source": [
    "### 51. Create a structured array representing a position (x,y) and a color (r,g,b) (★★☆), Don't know how to solve!\n"
   ]
  },
  {
   "cell_type": "code",
   "execution_count": null,
   "id": "d799b306",
   "metadata": {},
   "outputs": [],
   "source": [
    "Z = np.zeros(10, [('position', [('x',float,1),\n",
    "                                ('y', float,1)]),\n",
    "                  ('color', [('r',float,1),\n",
    "                             ('g',float,1),\n",
    "                             ('b',float,1)])])\n",
    "Z"
   ]
  },
  {
   "cell_type": "markdown",
   "id": "5db9063c",
   "metadata": {},
   "source": [
    "### 52. Consider a random vector with shape (100,2) representing coordinates, find point by point distances (★★☆)"
   ]
  },
  {
   "cell_type": "code",
   "execution_count": null,
   "id": "33973845",
   "metadata": {},
   "outputs": [],
   "source": [
    "Z = np.random.random((10,2))\n",
    "X,Y = np.atleast_2d(Z[:,0], Z[:,1])\n",
    "D = np.sqrt((X-X.T)**2 + (Y-Y.T)**2)\n",
    "print(D)"
   ]
  },
  {
   "cell_type": "markdown",
   "id": "2f413c36",
   "metadata": {},
   "source": [
    "### 53. How to convert a float (32 bits) array into an integer (32 bits) in place?\n"
   ]
  },
  {
   "cell_type": "code",
   "execution_count": null,
   "id": "0739f373",
   "metadata": {},
   "outputs": [],
   "source": [
    "Z = np.ones((2,2))\n",
    "Z.dtype\n",
    "Z = Z.astype('int32')\n",
    "Z # Incorrect Solution"
   ]
  },
  {
   "cell_type": "code",
   "execution_count": null,
   "id": "ddaaf5c4",
   "metadata": {},
   "outputs": [],
   "source": [
    "# Correct Solution:\n",
    "Z = (np.random.rand(10)*100).astype(np.float32)\n",
    "print(Z)\n",
    "Y = Z.view(np.int32)\n",
    "Y[:] = Z\n",
    "print(Y)"
   ]
  },
  {
   "cell_type": "markdown",
   "id": "49551f5c",
   "metadata": {},
   "source": [
    "### 54. How to read the following file? (★★☆)\n"
   ]
  },
  {
   "cell_type": "code",
   "execution_count": null,
   "id": "a9603bc2",
   "metadata": {},
   "outputs": [],
   "source": [
    "import os\n",
    "\n",
    "file = open('test.txt', 'a')\n",
    "file.write('''1, 2, 3, 4, 5\n",
    "6,  ,  , 7, 8\n",
    " ,  , 9,10,11''')\n",
    "file.close() # Incorrect Soltuion"
   ]
  },
  {
   "cell_type": "code",
   "execution_count": null,
   "id": "c5b946c4",
   "metadata": {},
   "outputs": [],
   "source": [
    "from io import StringIO\n",
    "\n",
    "# Fake file\n",
    "s = StringIO('''1, 2, 3, 4, 5\n",
    "\n",
    "                6,  ,  , 7, 8\n",
    "\n",
    "                 ,  , 9,10,11\n",
    "''')\n",
    "Z = np.genfromtxt(s, delimiter=',', dtype=np.int16)\n",
    "print(Z)"
   ]
  },
  {
   "cell_type": "markdown",
   "id": "f535d5b0",
   "metadata": {},
   "source": [
    "### 55. What is the equivalent of enumerate for numpy arrays? (★★☆)\n"
   ]
  },
  {
   "cell_type": "code",
   "execution_count": null,
   "id": "1363390f",
   "metadata": {},
   "outputs": [],
   "source": [
    "Z = np.arange(9).reshape(3,3)\n",
    "print(Z)\n",
    "print()\n",
    "for index, value in np.ndenumerate(Z):\n",
    "    print(index, value)\n",
    "for index in np.ndindex(Z.shape):\n",
    "    print(index, Z[index])"
   ]
  },
  {
   "cell_type": "markdown",
   "id": "bf45d3d9",
   "metadata": {},
   "source": [
    "### 56. Generate a generic 2D Gaussian-like array (★★☆)\n"
   ]
  },
  {
   "cell_type": "code",
   "execution_count": null,
   "id": "3a43befd",
   "metadata": {},
   "outputs": [],
   "source": [
    "# Solution:\n",
    "X, Y = np.meshgrid(np.linspace(-1,1,10), np.linspace(-1,1,10))\n",
    "D = np.sqrt(X*X+Y*Y)\n",
    "sigma, mu = 1.0, 0.0\n",
    "G = np.exp(-((D-mu)**2 / (2.0 * sigma**2)))\n",
    "print(G) # Not Understood the mathematical formulations"
   ]
  },
  {
   "cell_type": "markdown",
   "id": "0525ef02",
   "metadata": {},
   "source": [
    "### 57. How to randomly place p elements in a 2D array? (★★☆)\n"
   ]
  },
  {
   "cell_type": "code",
   "execution_count": null,
   "id": "8035a6a8",
   "metadata": {},
   "outputs": [],
   "source": [
    "# Solution:\n",
    "n, p = 10, 3\n",
    "Z = np.zeros((n,n))\n",
    "np.put(Z, np.random.choice(range(n*n), p, replace=False), 1)\n",
    "print(Z) # Not understood the mathematical formulations"
   ]
  },
  {
   "cell_type": "markdown",
   "id": "0c609061",
   "metadata": {},
   "source": [
    "### 58. Subtract the mean of each row of a matrix (★★☆) NOT SOLVED !\n"
   ]
  },
  {
   "cell_type": "code",
   "execution_count": null,
   "id": "841acf8f",
   "metadata": {},
   "outputs": [],
   "source": [
    "Z = np.arange(1, 26).reshape(5,5)\n",
    "for i in range(len(Z)):\n",
    "    res = Z[0] - np.mean(Z[0])\n",
    "    Z[0] += 1 \n",
    "print(res) # Incorrect Solution"
   ]
  },
  {
   "cell_type": "code",
   "execution_count": null,
   "id": "fb6cc253",
   "metadata": {},
   "outputs": [],
   "source": [
    "# Correct Solution:\n",
    "X = np.random.rand(5,10)\n",
    "Y = X - X.mean(axis=1, keepdims=True)\n",
    "Y"
   ]
  },
  {
   "cell_type": "markdown",
   "id": "37ccb7cd",
   "metadata": {},
   "source": [
    "### 59. How to sort an array by the nth column? (★★☆)\n"
   ]
  },
  {
   "cell_type": "code",
   "execution_count": null,
   "id": "87359e59",
   "metadata": {},
   "outputs": [],
   "source": [
    "Z = np.random.randint(1, 20, 25).reshape(5,5)\n",
    "res = np.sort(Z)\n",
    "res # Incorrect Solution !"
   ]
  },
  {
   "cell_type": "code",
   "execution_count": null,
   "id": "e2848910",
   "metadata": {},
   "outputs": [],
   "source": [
    "# Correct Solution:\n",
    "Z = np.random.randint(0,10,(3,3))\n",
    "print(Z)\n",
    "print()\n",
    "print(Z[Z[:,-1].argsort()])"
   ]
  },
  {
   "cell_type": "markdown",
   "id": "d3c1d483",
   "metadata": {},
   "source": [
    "\n",
    "### 60. How to tell if a given 2D array has null columns? (★★☆)\n"
   ]
  },
  {
   "cell_type": "code",
   "execution_count": null,
   "id": "2a52a204",
   "metadata": {},
   "outputs": [],
   "source": [
    "# Solution:\n",
    "# Z = np.random.randint(0,3,(3,10))\n",
    "# print((~Z.any(axis=0)).any())\n",
    "Z = np.array([\n",
    "    [0,1,np.nan],\n",
    "    [1,2,np.nan],\n",
    "    [4,5,np.nan]\n",
    "])\n",
    "print(np.isnan(Z).all(axis=0))"
   ]
  },
  {
   "cell_type": "markdown",
   "id": "fffe36a0",
   "metadata": {},
   "source": [
    "### 61. Find the nearest value from a given value in an array (★★☆)\n"
   ]
  },
  {
   "cell_type": "code",
   "execution_count": null,
   "id": "e02dc5d2",
   "metadata": {},
   "outputs": [],
   "source": [
    "Z = np.random.uniform(0,1,size=10)\n",
    "z = 0.5\n",
    "m = Z.flat[np.abs(Z - z).argmin()]\n",
    "print(m)"
   ]
  },
  {
   "cell_type": "markdown",
   "id": "78f2bc83",
   "metadata": {},
   "source": [
    "### 62. Considering two arrays with shape (1,3) and (3,1), how to compute their sum using an iterator? (★★☆)\n"
   ]
  },
  {
   "cell_type": "code",
   "execution_count": null,
   "id": "80247c46",
   "metadata": {},
   "outputs": [],
   "source": [
    "Z = np.arange(1,4)\n",
    "Z1 = np.arange(4,7).reshape(3,1)\n",
    "res = np.sum(Z) + np.sum(Z1) # Incorrect Solution !"
   ]
  },
  {
   "cell_type": "code",
   "execution_count": null,
   "id": "ff3e3bcc",
   "metadata": {},
   "outputs": [],
   "source": [
    "# Correct Solution:\n",
    "A, B = np.arange(3).reshape(3,1), np.arange(3).reshape(1,3)\n",
    "it = np.nditer([A,B,None])\n",
    "for x,y,z in it:\n",
    "    z[...] = x + y\n",
    "print(it.operands[2])"
   ]
  },
  {
   "cell_type": "code",
   "execution_count": null,
   "id": "4c43711f",
   "metadata": {},
   "outputs": [],
   "source": [
    "# Another Example:\n",
    "X = np.arange(25).reshape(25,1)\n",
    "Y = np.arange(25).reshape(1,25)"
   ]
  },
  {
   "cell_type": "code",
   "execution_count": null,
   "id": "885b47c6",
   "metadata": {},
   "outputs": [],
   "source": [
    "iterate = np.nditer([X,Y,None])\n",
    "for x,y,z in iterate:\n",
    "    z[...] = x + y\n",
    "print(iterate.operands[2])"
   ]
  },
  {
   "cell_type": "markdown",
   "id": "94ca377c",
   "metadata": {},
   "source": [
    "### 63. Create an array class that has a name attribute (★★☆)\n"
   ]
  },
  {
   "cell_type": "code",
   "execution_count": null,
   "id": "47c57700",
   "metadata": {},
   "outputs": [],
   "source": [
    "class NamedArray(np.ndarray):\n",
    "    def __new__(cls, array, name='no name'):\n",
    "        obj = np.asarray(array).view(cls)\n",
    "        obj.name = name\n",
    "        return obj\n",
    "    def __array_finalize(self, obj):\n",
    "        if obj is None:\n",
    "            return\n",
    "        self.name = getattr(obj, 'name', 'no name')\n",
    "\n",
    "Z = NamedArray(np.arange(10), 'range_10')\n",
    "print(Z)"
   ]
  },
  {
   "cell_type": "code",
   "execution_count": null,
   "id": "c5dbd9c5",
   "metadata": {},
   "outputs": [],
   "source": [
    "class NamedArray(np.ndarray):\n",
    "    def __new__(cls, array, name='no name'):\n",
    "        obj = np.asarray(array).view(cls)\n",
    "        obj.name = name\n",
    "        return obj\n",
    "    def __array_finalize(self, obj):\n",
    "        if obj is None:\n",
    "            return\n",
    "        self.name = getattr(obj, 'name', 'no name')\n",
    "        \n",
    "Z = NamedArray(np.arange(20), 'range_20')\n",
    "print(Z)"
   ]
  },
  {
   "cell_type": "markdown",
   "id": "a9a00774",
   "metadata": {},
   "source": [
    "\n",
    "### 64. Consider a given vector, how to add 1 to each element indexed by a second vector (be careful with repeated indices)? (★★★)\n"
   ]
  },
  {
   "cell_type": "code",
   "execution_count": null,
   "id": "7797cea7",
   "metadata": {},
   "outputs": [],
   "source": [
    "# Solution:\n",
    "Z = np.ones(10)\n",
    "I = random.randint(0, len(Z), size=20)\n",
    "Z += np.bincount(I, minlength=len(Z))\n",
    "print(Z)"
   ]
  },
  {
   "cell_type": "code",
   "execution_count": null,
   "id": "66f267bb",
   "metadata": {},
   "outputs": [],
   "source": [
    "# Another solution:\n",
    "Z = np.ones(10)\n",
    "I = np.random.randint(0,len(Z),size=20)\n",
    "np.add.at(Z, I, 1)\n",
    "print(Z)"
   ]
  },
  {
   "cell_type": "markdown",
   "id": "a34e70a4",
   "metadata": {},
   "source": [
    "### 65. How to accumulate elements of a vector (X) to an array (F) based on an index list (I)? (★★★)"
   ]
  },
  {
   "cell_type": "code",
   "execution_count": null,
   "id": "5999be35",
   "metadata": {},
   "outputs": [],
   "source": [
    "X = np.arange(1,7)\n",
    "I = np.random.randint(1,10,size=len(X))\n",
    "F = np.bincount(I,X)\n",
    "print(F)"
   ]
  },
  {
   "cell_type": "markdown",
   "id": "4a5f3315",
   "metadata": {},
   "source": [
    "### 66. Considering a (w,h,3) image of (dtype=ubyte), compute the number of unique colors (★★☆)\n"
   ]
  },
  {
   "cell_type": "code",
   "execution_count": null,
   "id": "edaf3b45",
   "metadata": {},
   "outputs": [],
   "source": [
    "# 1st Solution:\n",
    "w, h = 256, 256\n",
    "I = np.random.randint(0, 4, (w, h, 3)).astype(np.ubyte)\n",
    "colors = np.unique(I.reshape(-1, 3), axis=0)\n",
    "n = len(colors)\n",
    "print(n)"
   ]
  },
  {
   "cell_type": "code",
   "execution_count": null,
   "id": "f047c44d",
   "metadata": {},
   "outputs": [],
   "source": [
    "# 2nd Solution: Faster Version !\n",
    "w, h = 256, 256\n",
    "I = np.random.randint(0, 4, (h, w, 3), dtype=np.uint8)\n",
    "I24 = np.dot(I.astype(np.uint32), [1, 256, 65536])\n",
    "n = len(np.unique(I24))\n",
    "print(n)"
   ]
  },
  {
   "cell_type": "markdown",
   "id": "60ba124f",
   "metadata": {},
   "source": [
    "### 67. Considering a four dimensions array, how to get sum over the last two axis at once? (★★★) Not Solved !\n"
   ]
  },
  {
   "cell_type": "code",
   "execution_count": null,
   "id": "fb5602bf",
   "metadata": {},
   "outputs": [],
   "source": [
    "A = np.random.randint(0, 10, (3, 4, 3, 4))\n",
    "#print(A)\n",
    "print()\n",
    "#print(A[-2])\n",
    "print()\n",
    "sum = A.sum(axis=(-2, -1))\n",
    "print(sum)"
   ]
  },
  {
   "cell_type": "code",
   "execution_count": null,
   "id": "44b4951a",
   "metadata": {},
   "outputs": [],
   "source": [
    "sum = A.reshape(A.shape[:-2] + (-1,)).sum(axis=-1)\n",
    "print(sum)"
   ]
  },
  {
   "cell_type": "markdown",
   "id": "955281d8",
   "metadata": {},
   "source": [
    "### 68. Considering a one-dimensional vector D, how to compute means of subsets of D using a vector S of same size describing subset  indices? (★★★)\n"
   ]
  },
  {
   "cell_type": "code",
   "execution_count": null,
   "id": "7814a250",
   "metadata": {},
   "outputs": [],
   "source": [
    "D = np.random.uniform(0,1,100)\n",
    "S = np.random.randint(0,10,100)\n",
    "D_sums = np.bincount(S, weights=D)\n",
    "D_counts = np.bincount(S)\n",
    "D_means = D_sums / D_counts\n",
    "print(D_means)"
   ]
  },
  {
   "cell_type": "markdown",
   "id": "b5125c4e",
   "metadata": {},
   "source": [
    "\n",
    "### 69. How to get the diagonal of a dot product? (★★★)\n"
   ]
  },
  {
   "cell_type": "code",
   "execution_count": null,
   "id": "149dc03b",
   "metadata": {},
   "outputs": [],
   "source": [
    "# Solution:\n",
    "A = np.random.uniform(0,1,(5,5))\n",
    "B = np.random.uniform(0,1,(5,5))\n",
    "print(np.dot(A, B))\n",
    "print(np.diag(np.dot(A, B)))"
   ]
  },
  {
   "cell_type": "code",
   "execution_count": null,
   "id": "3f8264d9",
   "metadata": {},
   "outputs": [],
   "source": [
    "# Faster version !\n",
    "np.sum(A * B.T, axis=1)ss"
   ]
  },
  {
   "cell_type": "markdown",
   "id": "193e4d0f",
   "metadata": {},
   "source": [
    "### 70. Consider the vector [1, 2, 3, 4, 5], how to build a new vector with 3 consecutive zeros interleaved between each value? (★★★)\n"
   ]
  },
  {
   "cell_type": "code",
   "execution_count": null,
   "id": "65d3ffff",
   "metadata": {},
   "outputs": [],
   "source": [
    "# My solution \n",
    "arr1 = np.array([1, 2, 3, 4, 5])\n",
    "arr2 = np.array([])\n",
    "for i in range(0,len(arr2),2):\n",
    "    arr2 = np.append(arr2, i)\n",
    "arr2 # Incorrect Solution !"
   ]
  },
  {
   "cell_type": "code",
   "execution_count": null,
   "id": "e1d3d775",
   "metadata": {},
   "outputs": [],
   "source": [
    "# Correct Solution:\n",
    "Z = np.array([1, 2, 3, 4, 5])\n",
    "nz = 3\n",
    "Z0 = np.zeros(len(Z) + (len(Z)-1) * nz)\n",
    "Z0[::nz+1] = Z\n",
    "print(Z0)"
   ]
  },
  {
   "cell_type": "markdown",
   "id": "9873f8ec",
   "metadata": {},
   "source": [
    "### 71. Consider an array of dimension (5,5,3), how to mulitply it by an array with dimensions (5,5)? (★★★)\n"
   ]
  },
  {
   "cell_type": "code",
   "execution_count": null,
   "id": "e4b2faf9",
   "metadata": {},
   "outputs": [],
   "source": [
    "A = np.ones((5,5,3))\n",
    "B = 2*np.ones((5,5))\n",
    "print(A * B[:,:,None])"
   ]
  },
  {
   "cell_type": "markdown",
   "id": "4f62dbff",
   "metadata": {},
   "source": [
    "### 72. How to swap two rows of an array? (★★★)\n"
   ]
  },
  {
   "cell_type": "code",
   "execution_count": null,
   "id": "8ca648a5",
   "metadata": {},
   "outputs": [],
   "source": [
    "A = np.arange(25).reshape(5,5)\n",
    "print(A)"
   ]
  },
  {
   "cell_type": "code",
   "execution_count": null,
   "id": "22964b87",
   "metadata": {},
   "outputs": [],
   "source": [
    "A[[0,1]] = A[[1,0]]\n",
    "print(A)"
   ]
  },
  {
   "cell_type": "markdown",
   "id": "e0f10652",
   "metadata": {},
   "source": [
    "### 73. Consider a set of 10 triplets describing 10 triangles (with shared vertices), find the set of unique line segments composing all the  triangles (★★★)\n"
   ]
  },
  {
   "cell_type": "code",
   "execution_count": null,
   "id": "7d9d02c7",
   "metadata": {},
   "outputs": [],
   "source": [
    "faces = np.random.randint(0,100,(10,3))\n",
    "F = np.roll(faces.repeat(2, axis=1), -1, axis=1)\n",
    "F = F.reshape(len(F)*3,2)\n",
    "F = np.sort(F, axis=1)\n",
    "G = F.view(dtype=[('p0',F.dtype), ('p1',F.dtype)])\n",
    "G = np.unique(G)\n",
    "print(G)"
   ]
  },
  {
   "cell_type": "markdown",
   "id": "910463ef",
   "metadata": {},
   "source": [
    "### 74. Given a sorted array C that corresponds to a bincount, how to produce an array A such that np.bincount(A) == C? (★★★)\n"
   ]
  },
  {
   "cell_type": "code",
   "execution_count": null,
   "id": "78928cf2",
   "metadata": {},
   "outputs": [],
   "source": [
    "C = np.bincount([1, 1, 2, 3, 4, 4, 6])\n",
    "A = np.repeat(np.arange(len(C)),C)\n",
    "A"
   ]
  },
  {
   "cell_type": "markdown",
   "id": "2b80abc9",
   "metadata": {},
   "source": [
    "### 75. How to compute averages using a sliding window over an array? (★★★)\n"
   ]
  },
  {
   "cell_type": "code",
   "execution_count": null,
   "id": "189b6a06",
   "metadata": {},
   "outputs": [],
   "source": [
    "def moving_average(a, n=3):\n",
    "    ret = np.cumsum(a, dtype=float)\n",
    "    ret[n:] = ret[n:] - ret[:-n]\n",
    "    return ret[n - 1:] / n\n",
    "\n",
    "print(moving_average(np.arange(20), n=3))"
   ]
  },
  {
   "cell_type": "code",
   "execution_count": 79,
   "id": "eb640002",
   "metadata": {},
   "outputs": [
    {
     "name": "stdout",
     "output_type": "stream",
     "text": [
      "[ 1.  2.  3.  4.  5.  6.  7.  8.  9. 10. 11. 12. 13. 14. 15. 16. 17. 18.]\n"
     ]
    }
   ],
   "source": [
    "# Another Solution:\n",
    "from numpy.lib.stride_tricks import sliding_window_view\n",
    "Z = np.arange(20)\n",
    "print(sliding_window_view(Z, window_shape=3).mean(axis=-1))"
   ]
  },
  {
   "cell_type": "markdown",
   "id": "37a1fd86",
   "metadata": {},
   "source": [
    "### 76. Consider a one-dimensional array Z, build a two-dimensional array whose first row is (Z[0],Z[1],Z[2]) and each subsequent row is  shifted by 1 (last row should be (Z[-3],Z[-2],Z[-1]) (★★★)\n"
   ]
  },
  {
   "cell_type": "code",
   "execution_count": 80,
   "id": "0657eff2",
   "metadata": {},
   "outputs": [
    {
     "name": "stdout",
     "output_type": "stream",
     "text": [
      "[[0 1 2]\n",
      " [1 2 3]\n",
      " [2 3 4]\n",
      " [3 4 5]\n",
      " [4 5 6]\n",
      " [5 6 7]\n",
      " [6 7 8]\n",
      " [7 8 9]]\n"
     ]
    }
   ],
   "source": [
    "from numpy.lib import stride_tricks\n",
    "\n",
    "def rolling(a, window):\n",
    "    shape = (a.size - window + 1, window)\n",
    "    strides = (a.strides[0], a.strides[0])\n",
    "    return stride_tricks.as_strided(a, shape=shape, strides=strides)\n",
    "Z = rolling(np.arange(10), 3)\n",
    "print(Z)"
   ]
  },
  {
   "cell_type": "markdown",
   "id": "1e242fb9",
   "metadata": {},
   "source": [
    "\n",
    "### 77. How to negate a boolean, or to change the sign of a float inplace? (★★★)\n"
   ]
  },
  {
   "cell_type": "code",
   "execution_count": 81,
   "id": "19b2df1c",
   "metadata": {},
   "outputs": [
    {
     "name": "stdout",
     "output_type": "stream",
     "text": [
      "[ 0.21910126  0.68688632 -0.31263723  0.67315105  0.69789668 -0.00946461\n",
      " -0.7510623   0.64405668  0.68312904  0.99301734  0.67389755  0.10213549\n",
      "  0.05918168  0.90490214  0.09150666  0.38181517 -0.89727908 -0.27714757\n",
      "  0.60226388  0.93081035  0.27475098  0.08608743 -0.8166326   0.55907002\n",
      "  0.97718053  0.09512711  0.29404503  0.61513833  0.57614402  0.20165361\n",
      "  0.8808311  -0.6082798  -0.92823157 -0.18001436  0.7295688   0.60628294\n",
      " -0.18294249 -0.97164301 -0.19808441  0.82186075  0.2000925   0.59990456\n",
      "  0.09674854  0.36104201 -0.39615403 -0.30790112 -0.2699847  -0.75195149\n",
      " -0.4470001   0.46701588  0.32856467  0.22860272  0.94547292  0.22337566\n",
      " -0.35368969  0.61828858  0.56237489  0.00607401  0.17116421  0.08813692\n",
      " -0.49486023  0.79091428 -0.35900666 -0.67780042 -0.93864128  0.99451857\n",
      " -0.25336247  0.77340937  0.12508981  0.50292755 -0.97628473 -0.91163507\n",
      "  0.34275949 -0.29909593  0.83727247 -0.25557694  0.25150284 -0.39061422\n",
      " -0.13458711  0.3971663   0.91239386  0.81680222 -0.56334768  0.7509181\n",
      " -0.53590703  0.3668664   0.7764517  -0.09496371 -0.43423364 -0.44024911\n",
      " -0.39318012 -0.42258935  0.31843278  0.50871773  0.58601544  0.21926266\n",
      " -0.83617127  0.30926679  0.50815692 -0.45565588]\n",
      "[-0.21910126 -0.68688632  0.31263723 -0.67315105 -0.69789668  0.00946461\n",
      "  0.7510623  -0.64405668 -0.68312904 -0.99301734 -0.67389755 -0.10213549\n",
      " -0.05918168 -0.90490214 -0.09150666 -0.38181517  0.89727908  0.27714757\n",
      " -0.60226388 -0.93081035 -0.27475098 -0.08608743  0.8166326  -0.55907002\n",
      " -0.97718053 -0.09512711 -0.29404503 -0.61513833 -0.57614402 -0.20165361\n",
      " -0.8808311   0.6082798   0.92823157  0.18001436 -0.7295688  -0.60628294\n",
      "  0.18294249  0.97164301  0.19808441 -0.82186075 -0.2000925  -0.59990456\n",
      " -0.09674854 -0.36104201  0.39615403  0.30790112  0.2699847   0.75195149\n",
      "  0.4470001  -0.46701588 -0.32856467 -0.22860272 -0.94547292 -0.22337566\n",
      "  0.35368969 -0.61828858 -0.56237489 -0.00607401 -0.17116421 -0.08813692\n",
      "  0.49486023 -0.79091428  0.35900666  0.67780042  0.93864128 -0.99451857\n",
      "  0.25336247 -0.77340937 -0.12508981 -0.50292755  0.97628473  0.91163507\n",
      " -0.34275949  0.29909593 -0.83727247  0.25557694 -0.25150284  0.39061422\n",
      "  0.13458711 -0.3971663  -0.91239386 -0.81680222  0.56334768 -0.7509181\n",
      "  0.53590703 -0.3668664  -0.7764517   0.09496371  0.43423364  0.44024911\n",
      "  0.39318012  0.42258935 -0.31843278 -0.50871773 -0.58601544 -0.21926266\n",
      "  0.83617127 -0.30926679 -0.50815692  0.45565588]\n"
     ]
    }
   ],
   "source": [
    "Z = np.random.randint(0,2,size=100)\n",
    "np.logical_not(Z, out=Z)\n",
    "\n",
    "Z = np.random.uniform(-1.0, 1.0, size=100)\n",
    "print(Z)\n",
    "print(np.negative(Z, out=Z))"
   ]
  },
  {
   "cell_type": "markdown",
   "id": "b63a0b0f",
   "metadata": {},
   "source": [
    "### 78. Consider 2 sets of points P0,P1 describing lines (2d) and a point p, how to compute distance from p to each line i (P0[i],P1[i])? (★★★)\n"
   ]
  },
  {
   "cell_type": "markdown",
   "id": "764d0579",
   "metadata": {},
   "source": [
    "### Skip ! to much complicated syntax"
   ]
  },
  {
   "cell_type": "markdown",
   "id": "98c8c524",
   "metadata": {},
   "source": [
    "\n",
    "### 79. Consider 2 sets of points P0,P1 describing lines (2d) and a set of points P, how to compute distance from each point j (P[j]) to each line i (P0[i],P1[i])? (★★★)\n"
   ]
  },
  {
   "cell_type": "code",
   "execution_count": null,
   "id": "ec7cf989",
   "metadata": {},
   "outputs": [],
   "source": [
    "P0 = np.random.uniform(-10, 10, (10, 2))\n",
    "P1 = np.random.uniform(-10, 10, (10, 2))\n",
    "p = np.random.uniform(-10, 10, (10, 2))\n",
    "\n",
    "# print(P0)\n",
    "# print()\n",
    "# print(P1)\n",
    "# print() \n",
    "# print(p) # Skip this as well !!"
   ]
  },
  {
   "cell_type": "markdown",
   "id": "714140a4",
   "metadata": {},
   "source": [
    "### 80. Consider an arbitrary array, write a function that extract a subpart with a fixed shape and centered on a given element (pad with a `fill` value when necessary) (★★★)\n"
   ]
  },
  {
   "cell_type": "code",
   "execution_count": 82,
   "id": "8a5e1879",
   "metadata": {
    "scrolled": true
   },
   "outputs": [
    {
     "name": "stdout",
     "output_type": "stream",
     "text": [
      "[[0 8 7 5 9 4 1 5 0 3]\n",
      " [4 7 9 6 1 3 6 3 8 6]\n",
      " [0 0 7 3 2 2 1 8 6 8]\n",
      " [8 7 1 2 1 8 7 8 3 6]\n",
      " [7 7 2 9 9 1 4 1 9 7]\n",
      " [5 5 5 3 5 6 2 5 7 3]\n",
      " [8 3 2 2 1 2 4 9 0 7]\n",
      " [5 4 4 6 6 7 9 9 9 1]\n",
      " [0 2 7 1 6 0 8 3 2 5]\n",
      " [6 5 3 2 6 0 3 4 7 9]]\n",
      "[[1 1 1 1 1]\n",
      " [1 1 1 1 1]\n",
      " [1 1 1 1 1]\n",
      " [1 1 1 1 1]\n",
      " [1 1 1 1 1]]\n"
     ]
    }
   ],
   "source": [
    "Z = np.random.randint(0, 10, (10,10))\n",
    "shape = (5,5)\n",
    "fill = 0\n",
    "position = (1,1)\n",
    "\n",
    "R = np.ones(shape, dtype=Z.dtype)\n",
    "P = np.array(list(position)).astype(int)\n",
    "Rs = np.array(list(R.shape)).astype(int)\n",
    "Zs = np.array(list(Z.shape)).astype(int)\n",
    "\n",
    "R_start = np.zeros((len(shape),)).astype(int)\n",
    "R_stop = np.array(list(shape)).astype(int)\n",
    "Z_start = P-Rs // 2\n",
    "Z_stop = P+Rs // 2 + Rs%2\n",
    "\n",
    "R_start = (R_start - np.minimum(Z_start, 0)).tolist()\n",
    "Z_start = (np.minimum(Z_start, 0)).tolist()\n",
    "R_stop = np.minimum(R_start, (R_stop - np.minimum(Z_stop - Zs, 0))).tolist()\n",
    "Z_stop = (np.minimum(Z_stop, Zs)).tolist()\n",
    "\n",
    "r = [slice(start,stop) for start,stop in zip(R_start,R_stop)]\n",
    "z = [slice(start,stop) for start,stop in zip(Z_start,Z_stop)]\n",
    "R[tuple(r)] = Z[tuple(z)]\n",
    "\n",
    "print(Z)\n",
    "print(R)"
   ]
  },
  {
   "cell_type": "markdown",
   "id": "3b826beb",
   "metadata": {},
   "source": [
    "\n",
    "### 81. Consider an array Z = [1,2,3,4,5,6,7,8,9,10,11,12,13,14], how to generate an array R = [[1,2,3,4], [2,3,4,5], [3,4,5,6], ..., [11,12,13,14]]? (★★★)\n"
   ]
  },
  {
   "cell_type": "code",
   "execution_count": 83,
   "id": "7ba49372",
   "metadata": {},
   "outputs": [
    {
     "name": "stdout",
     "output_type": "stream",
     "text": [
      "[ 1  2  3  4  5  6  7  8  9 10 11 12 13 14]\n",
      "[[ 1  2  3  4]\n",
      " [ 2  3  4  5]\n",
      " [ 3  4  5  6]\n",
      " [ 4  5  6  7]\n",
      " [ 5  6  7  8]\n",
      " [ 6  7  8  9]\n",
      " [ 7  8  9 10]\n",
      " [ 8  9 10 11]\n",
      " [ 9 10 11 12]\n",
      " [10 11 12 13]\n",
      " [11 12 13 14]]\n"
     ]
    }
   ],
   "source": [
    "# Solution:\n",
    "from numpy.lib import stride_tricks\n",
    "\n",
    "Z = np.arange(1, 15, dtype=np.uint32)\n",
    "print(Z)\n",
    "R = stride_tricks.as_strided(Z, (11,4), (4,4))\n",
    "#print(R)\n",
    "\n",
    "# Another Soltuion:\n",
    "Z = np.arange(1, 15, dtype=np.uint32)\n",
    "print(sliding_window_view(Z, window_shape=4))"
   ]
  },
  {
   "cell_type": "markdown",
   "id": "37a4499a",
   "metadata": {},
   "source": [
    "### 82. Compute a matrix rank (★★★)\n"
   ]
  },
  {
   "cell_type": "code",
   "execution_count": null,
   "id": "81a3e42e",
   "metadata": {},
   "outputs": [],
   "source": [
    "# # Solution:\n",
    "Z = np.random.uniform(0, 1, (10, 10))\n",
    "U, S, V = np.linalg.svd(Z) # Singular value decomposition\n",
    "rank = np.sum(S > 1e-10)\n",
    "# print(rank)\n",
    "\n",
    "# Another solution:\n",
    "rank = np.linalg.matrix_rank(Z)\n",
    "print(rank)"
   ]
  },
  {
   "cell_type": "markdown",
   "id": "437e468d",
   "metadata": {},
   "source": [
    "### 83. How to find the most frequent value in an array?\n"
   ]
  },
  {
   "cell_type": "code",
   "execution_count": 71,
   "id": "6ec5272a",
   "metadata": {},
   "outputs": [
    {
     "name": "stdout",
     "output_type": "stream",
     "text": [
      "[7 1 1 1 2 6 5 8 7 4 7 2 3 4 0 2 6 2 5 3 6 7 2 2 8 0 7 2 3 6 5 5 2 9 7 6 1\n",
      " 7 1 5 6 3 8 9 9 7 6 4 1 3]\n",
      "2\n"
     ]
    }
   ],
   "source": [
    "Z = np.random.randint(0,10,50)\n",
    "print(Z)\n",
    "print(np.bincount(Z).argmax())"
   ]
  },
  {
   "cell_type": "markdown",
   "id": "f959b9af",
   "metadata": {},
   "source": [
    "### 84. Extract all the contiguous 3x3 blocks from a random 10x10 matrix (★★★)"
   ]
  },
  {
   "cell_type": "code",
   "execution_count": 109,
   "id": "2e58521e",
   "metadata": {},
   "outputs": [],
   "source": [
    "# Solution: \n",
    "Z = np.random.randint(0,5,(10,10))\n",
    "#print(Z)\n",
    "n = 3\n",
    "i =  1 + (Z.shape[0] - 3)\n",
    "j = 1 + (Z.shape[1] - 3)\n",
    "C = stride_tricks.as_strided(Z, shape=(i, j, n, n), strides=Z.strides + Z.strides)\n",
    "#C\n",
    "\n",
    "# Another solution:\n",
    "Z = np.random.randint(0,5,(10,10))\n",
    "#print(sliding_window_view(Z, window_shape=(3,3)))"
   ]
  },
  {
   "cell_type": "markdown",
   "id": "7a39def5",
   "metadata": {},
   "source": [
    "### 85. Create a 2D array subclass such that Z[i,j] == Z[j,i] (★★★)\n"
   ]
  },
  {
   "cell_type": "code",
   "execution_count": 139,
   "id": "2f5b4392",
   "metadata": {},
   "outputs": [
    {
     "name": "stdout",
     "output_type": "stream",
     "text": [
      "[[ 8  3 11 11  9]\n",
      " [ 3  3  6  9 12]\n",
      " [11  6  1 42  9]\n",
      " [11  9 42  7  5]\n",
      " [ 9 12  9  5  6]]\n"
     ]
    }
   ],
   "source": [
    "class Symetric(np.ndarray):\n",
    "    def __setitem__(self, index, value):\n",
    "        i,j = index\n",
    "        super(Symetric, self).__setitem__((i,j), value)\n",
    "        super(Symetric, self).__setitem__((j,i), value)\n",
    "\n",
    "def symetric(Z):\n",
    "    return np.asarray(Z + Z.T - np.diag(Z.diagonal())).view(Symetric)\n",
    "\n",
    "S = symetric(np.random.randint(0,10,(5,5)))\n",
    "S[2,3] = 42\n",
    "print(S)"
   ]
  },
  {
   "cell_type": "markdown",
   "id": "172631cf",
   "metadata": {},
   "source": [
    "\n",
    "### 86. Consider a set of p matrices with shape (n,n) and a set of p vectors with shape (n,1). How to compute the sum of of the p matrix products at once? (result has shape (n,1)) (★★★)\n"
   ]
  },
  {
   "cell_type": "code",
   "execution_count": 146,
   "id": "819a465b",
   "metadata": {},
   "outputs": [
    {
     "name": "stdout",
     "output_type": "stream",
     "text": [
      "[[200.]\n",
      " [200.]\n",
      " [200.]\n",
      " [200.]\n",
      " [200.]\n",
      " [200.]\n",
      " [200.]\n",
      " [200.]\n",
      " [200.]\n",
      " [200.]\n",
      " [200.]\n",
      " [200.]\n",
      " [200.]\n",
      " [200.]\n",
      " [200.]\n",
      " [200.]\n",
      " [200.]\n",
      " [200.]\n",
      " [200.]\n",
      " [200.]]\n"
     ]
    }
   ],
   "source": [
    "p, n = 10, 20\n",
    "M = np.ones((p,n,n))\n",
    "V = np.ones((p,n,1))\n",
    "S = np.tensordot(M, V, axes=[[0,2], [0,1]])\n",
    "print(S)"
   ]
  },
  {
   "cell_type": "markdown",
   "id": "b3c47d35",
   "metadata": {},
   "source": [
    "\n",
    "### 87. Consider a 16x16 array, how to get the block-sum (block size is 4x4)? (★★★)\n"
   ]
  },
  {
   "cell_type": "code",
   "execution_count": 152,
   "id": "4a507ebb",
   "metadata": {},
   "outputs": [
    {
     "name": "stdout",
     "output_type": "stream",
     "text": [
      "[[16. 16. 16. 16.]\n",
      " [16. 16. 16. 16.]\n",
      " [16. 16. 16. 16.]\n",
      " [16. 16. 16. 16.]]\n"
     ]
    }
   ],
   "source": [
    "# Solution:\n",
    "Z = np.ones((16,16))\n",
    "k = 4\n",
    "S = np.add.reduceat(np.add.reduceat(Z, np.arange(0,Z.shape[0],k), axis=0),\n",
    "                                   (np.arange(0, Z.shape[1],k)), axis=1)\n",
    "#print(S)\n",
    "# Another solution:\n",
    "windows = np.lib.stride_tricks.sliding_window_view(Z, (k,k))\n",
    "S = windows[::k, ::k, ...].sum(axis=(-2,-1))\n",
    "print(S)"
   ]
  },
  {
   "cell_type": "markdown",
   "id": "94ac7444",
   "metadata": {},
   "source": [
    "### 88. How to implement the Game of Life using numpy arrays? (★★★)\n"
   ]
  },
  {
   "cell_type": "code",
   "execution_count": 157,
   "id": "ff4d5391",
   "metadata": {},
   "outputs": [],
   "source": [
    "def iterate(Z):\n",
    "    # Count neighbours\n",
    "    N = (Z[0:-2,0:-2] + Z[0:-2,1:-1] + Z[0:-2,2:] +\n",
    "         Z[1:-1,0:-2] + Z[1:-1,2:] + Z[2:,0:-2] + \n",
    "         Z[2:,0:-2] + Z[2:,1:-1] + Z[2:,2:])\n",
    "    # Apply rules:\n",
    "    birth = (N==3) & (Z[1:-1,1:-1]==0)\n",
    "    survive = ((N==2) | (N==3)) & (Z[1:-1,1:-1]==1)\n",
    "    Z[...] = 0\n",
    "    Z[1:-1,1:-1][birth | survive] = 1\n",
    "    return Z\n",
    "\n",
    "Z = np.random.randint(0,2,(50,50))\n",
    "for i in range(100):\n",
    "    Z = iterate(Z)\n",
    "    #print(Z) # I don't understand this code, so do the code of it !"
   ]
  },
  {
   "cell_type": "markdown",
   "id": "a552fc00",
   "metadata": {},
   "source": [
    "### 89. How to get the n largest values of an array (★★★)\n"
   ]
  },
  {
   "cell_type": "code",
   "execution_count": 191,
   "id": "791a292c",
   "metadata": {},
   "outputs": [
    {
     "name": "stdout",
     "output_type": "stream",
     "text": [
      "[9995 9996 9997 9998 9999]\n",
      "[9998 9999 9997 9996 9995]\n"
     ]
    }
   ],
   "source": [
    "Z = np.arange(10000)\n",
    "np.random.shuffle(Z)\n",
    "n = 5\n",
    "\n",
    "# Slow\n",
    "print(Z[np.argsort(Z)[-n:]])\n",
    "\n",
    "# Fast\n",
    "print(Z[np.argpartition(-Z,n)[:n]])"
   ]
  },
  {
   "cell_type": "markdown",
   "id": "b7028203",
   "metadata": {},
   "source": [
    "\n",
    "### 90. Given an arbitrary number of vectors, build the cartesian product (every combinations of every item) (★★★)\n"
   ]
  },
  {
   "cell_type": "code",
   "execution_count": 193,
   "id": "ea04a3e3",
   "metadata": {},
   "outputs": [
    {
     "name": "stdout",
     "output_type": "stream",
     "text": [
      "[[1 4 6]\n",
      " [1 4 7]\n",
      " [1 5 6]\n",
      " [1 5 7]\n",
      " [2 4 6]\n",
      " [2 4 7]\n",
      " [2 5 6]\n",
      " [2 5 7]\n",
      " [3 4 6]\n",
      " [3 4 7]\n",
      " [3 5 6]\n",
      " [3 5 7]]\n"
     ]
    }
   ],
   "source": [
    "def cartesian(arrays):\n",
    "    arrays = [np.asarray(a) for a in arrays]\n",
    "    shape = (len(x) for x in arrays)\n",
    "    \n",
    "    ix = np.indices(shape, dtype=int)\n",
    "    ix = ix.reshape(len(arrays), -1).T\n",
    "    \n",
    "    for n, arr in enumerate(arrays):\n",
    "        ix[:,n] = arrays[n][ix[:,n]]\n",
    "    \n",
    "    return ix\n",
    "\n",
    "print(cartesian(([1, 2, 3], [4, 5], [6, 7])))"
   ]
  },
  {
   "cell_type": "markdown",
   "id": "9079abd7",
   "metadata": {},
   "source": [
    "### 91. How to create a record array from a regular array? (★★★)\n"
   ]
  },
  {
   "cell_type": "code",
   "execution_count": 200,
   "id": "b2761ee7",
   "metadata": {},
   "outputs": [
    {
     "name": "stdout",
     "output_type": "stream",
     "text": [
      "[(b'Hello', 2.5, 3) (b'World', 3.6, 2)]\n"
     ]
    }
   ],
   "source": [
    "Z = np.array([('Hello', 2.5, 3),('World', 3.6, 2)])\n",
    "R = np.core.records.fromarrays(Z.T,\n",
    "                               names='col1, col2, col3',\n",
    "                               formats='S8, f8, i8')\n",
    "print(R)"
   ]
  },
  {
   "cell_type": "markdown",
   "id": "7b978faf",
   "metadata": {},
   "source": [
    "### 92. Consider a large vector Z, compute Z to the power of 3 using 3 different methods (★★★)\n"
   ]
  },
  {
   "cell_type": "code",
   "execution_count": 210,
   "id": "f6412c04",
   "metadata": {},
   "outputs": [
    {
     "name": "stdout",
     "output_type": "stream",
     "text": [
      "271 ms ± 8.54 ms per loop (mean ± std. dev. of 7 runs, 1 loop each)\n",
      "201 ms ± 4.92 ms per loop (mean ± std. dev. of 7 runs, 1 loop each)\n",
      "202 ms ± 32.8 ms per loop (mean ± std. dev. of 7 runs, 10 loops each)\n"
     ]
    }
   ],
   "source": [
    "x = np.random.rand(int(5e7))\n",
    "\n",
    "%timeit np.power(x,3)\n",
    "%timeit x*x*x\n",
    "%timeit np.einsum('i,i,i->i',x,x,x)"
   ]
  },
  {
   "cell_type": "markdown",
   "id": "94dcbe8f",
   "metadata": {},
   "source": [
    "### 93. Consider two arrays A and B of shape (8,3) and (2,2). How to find rows of A that contain elements of each row of B regardless of the order of the elements in B? (★★★)\n"
   ]
  },
  {
   "cell_type": "code",
   "execution_count": 227,
   "id": "dd22114e",
   "metadata": {},
   "outputs": [
    {
     "data": {
      "text/plain": [
       "array([0, 3])"
      ]
     },
     "execution_count": 227,
     "metadata": {},
     "output_type": "execute_result"
    }
   ],
   "source": [
    "A = np.random.randint(0,5,(8,3))\n",
    "B = np.random.randint(0,5,(2,2))\n",
    "C = A[..., np.newaxis, np.newaxis] == B\n",
    "rows = np.where(C.any((3,1)).all(1))[0]\n",
    "rows"
   ]
  },
  {
   "cell_type": "markdown",
   "id": "b0d081b0",
   "metadata": {},
   "source": [
    "### 94. Considering a 10x3 matrix, extract rows with unequal values (e.g. [2,2,3]) (★★★)\n"
   ]
  },
  {
   "cell_type": "code",
   "execution_count": 261,
   "id": "ac20b318",
   "metadata": {},
   "outputs": [
    {
     "name": "stdout",
     "output_type": "stream",
     "text": [
      "[[1 0 0]\n",
      " [3 1 2]\n",
      " [0 1 3]\n",
      " [2 3 1]\n",
      " [4 0 1]\n",
      " [1 4 4]\n",
      " [2 2 4]\n",
      " [2 4 1]\n",
      " [1 3 0]]\n"
     ]
    }
   ],
   "source": [
    "# Solution:\n",
    "Z = np.random.randint(0,5,(10,3))\n",
    "E = np.all(Z[:,1:] == Z[:,:-1], axis=1)\n",
    "U = Z[~E]\n",
    "#print(U)\n",
    "\n",
    "# Another Solution:\n",
    "U = Z[Z.max(axis=1) != Z.min(axis=1),:]\n",
    "print(U)"
   ]
  },
  {
   "cell_type": "markdown",
   "id": "e364f9d0",
   "metadata": {},
   "source": [
    "### 95. Convert a vector of ints into a matrix binary representation (★★★)\n"
   ]
  },
  {
   "cell_type": "code",
   "execution_count": 262,
   "id": "0649eda6",
   "metadata": {},
   "outputs": [
    {
     "name": "stdout",
     "output_type": "stream",
     "text": [
      "['1']\n",
      "['10']\n",
      "['11']\n",
      "['100']\n"
     ]
    }
   ],
   "source": [
    "# My solution\n",
    "a = np.array([1, 2, 3, 4])\n",
    "for i in a:\n",
    "    res = np.array([np.binary_repr(i)])\n",
    "    print(res) # Incorrect Solution !"
   ]
  },
  {
   "cell_type": "code",
   "execution_count": 303,
   "id": "d4f55e06",
   "metadata": {},
   "outputs": [
    {
     "name": "stdout",
     "output_type": "stream",
     "text": [
      "[  0   1   2   3  15  16  32  64 128]\n",
      "[[0 0 0 0 0 0 0 0]\n",
      " [0 0 0 0 0 0 0 1]\n",
      " [0 0 0 0 0 0 1 0]\n",
      " [0 0 0 0 0 0 1 1]\n",
      " [0 0 0 0 1 1 1 1]\n",
      " [0 0 0 1 0 0 0 0]\n",
      " [0 0 1 0 0 0 0 0]\n",
      " [0 1 0 0 0 0 0 0]\n",
      " [1 0 0 0 0 0 0 0]]\n"
     ]
    }
   ],
   "source": [
    "# Correct Solution:\n",
    "I = np.array([0, 1, 2, 3, 15, 16, 32, 64, 128], dtype=np.uint8)\n",
    "B = ((I.reshape(-1,1) & (2**np.arange(8))) != 0).astype(int)\n",
    "# print(B[:,::-1])\n",
    "\n",
    "# Another Solution:\n",
    "I = np.array([0, 1, 2, 3, 15, 16, 32, 64, 128], dtype=uint8)\n",
    "print(I)\n",
    "print(np.unpackbits(I[:,newaxis],axis=1))"
   ]
  },
  {
   "cell_type": "markdown",
   "id": "2d686a12",
   "metadata": {},
   "source": [
    "### 96. Given a two dimensional array, how to extract unique rows? (★★★)\n"
   ]
  },
  {
   "cell_type": "code",
   "execution_count": 355,
   "id": "28f73afa",
   "metadata": {},
   "outputs": [
    {
     "name": "stdout",
     "output_type": "stream",
     "text": [
      "[[0 1 0]\n",
      " [1 1 0]\n",
      " [1 1 1]]\n"
     ]
    }
   ],
   "source": [
    "# Solution:\n",
    "Z = np.random.randint(0,2,(6,3))\n",
    "T = ascontiguousarray(Z).view(np.dtype((np.void, Z.dtype.itemsize * Z.shape[1])))\n",
    "_, idx = np.unique(T, return_index=True)\n",
    "uZ = Z[idx]\n",
    "#print(uZ)\n",
    "\n",
    "# Another Solution:\n",
    "uZ = np.unique(Z, axis=0)\n",
    "print(uZ)"
   ]
  },
  {
   "cell_type": "markdown",
   "id": "9ba00b1b",
   "metadata": {},
   "source": [
    "### 97. Considering 2 vectors A & B, write the einsum equivalent of inner, outer, sum, and mul function (★★★)\n"
   ]
  },
  {
   "cell_type": "code",
   "execution_count": 373,
   "id": "664c77d3",
   "metadata": {},
   "outputs": [
    {
     "data": {
      "text/plain": [
       "array([[0.24203265, 0.140137  , 0.18668795, 0.15133118, 0.08898566,\n",
       "        0.12982453, 0.13767568, 0.18347434, 0.25084511, 0.01370245],\n",
       "       [0.37830984, 0.21904155, 0.29180314, 0.23653863, 0.1390893 ,\n",
       "        0.20292262, 0.21519437, 0.2867801 , 0.39208418, 0.02141765],\n",
       "       [0.66008023, 0.38218672, 0.50914214, 0.41271587, 0.24268493,\n",
       "        0.35406218, 0.37547411, 0.50037788, 0.68411389, 0.03736982],\n",
       "       [0.54669211, 0.31653495, 0.42168206, 0.34181982, 0.20099668,\n",
       "        0.29324162, 0.31097542, 0.41442331, 0.56659728, 0.03095046],\n",
       "       [0.37298369, 0.2159577 , 0.2876949 , 0.23320845, 0.13713109,\n",
       "        0.2000657 , 0.21216469, 0.28274258, 0.3865641 , 0.02111612],\n",
       "       [0.11834744, 0.06852322, 0.09128537, 0.07399687, 0.04351159,\n",
       "        0.0634807 , 0.0673197 , 0.08971401, 0.1226565 , 0.00670013],\n",
       "       [0.79556504, 0.46063248, 0.61364615, 0.49742789, 0.29249724,\n",
       "        0.42673523, 0.45254207, 0.60308297, 0.82453173, 0.04504016],\n",
       "       [0.45688257, 0.26453519, 0.35240893, 0.28566631, 0.16797733,\n",
       "        0.24506845, 0.25988897, 0.34634264, 0.47351775, 0.02586598],\n",
       "       [0.35499371, 0.2055415 , 0.27381862, 0.2219602 , 0.1305169 ,\n",
       "        0.19041602, 0.20193143, 0.26910517, 0.36791911, 0.02009763],\n",
       "       [0.40567215, 0.23488434, 0.31290861, 0.25364695, 0.14914932,\n",
       "        0.21759956, 0.2307589 , 0.30752227, 0.42044276, 0.02296675]])"
      ]
     },
     "execution_count": 373,
     "metadata": {},
     "output_type": "execute_result"
    }
   ],
   "source": [
    "A = np.random.uniform(0,1,10)\n",
    "B = np.random.uniform(0,1,10)\n",
    "\n",
    "np.einsum('i->',A) # np.sum(A)\n",
    "np.einsum('i,i->', A, B) # A * B\n",
    "np.einsum('i,i',A, B) # np.inner(A, B)\n",
    "np.einsum('i,j->ij', A, B) # np.outer(A,B)"
   ]
  },
  {
   "cell_type": "markdown",
   "id": "5a726247",
   "metadata": {},
   "source": [
    "### 98. Considering a path described by two vectors (X,Y), how to sample it using equidistant samples (★★★)?\n"
   ]
  },
  {
   "cell_type": "code",
   "execution_count": 401,
   "id": "48901bb5",
   "metadata": {},
   "outputs": [],
   "source": [
    "phi = np.arange(0,10*np.pi, 0.1)\n",
    "a = 1\n",
    "x = a*phi*np.cos(phi)\n",
    "y = a*phi*np.sin(phi)\n",
    "\n",
    "dr = (np.diff(x)**2 + np.diff(y)**2)**.5 # segment length\n",
    "r = np.zeros_like(x)\n",
    "r[1:] = np.cumsum(dr) # integrate path\n",
    "r_int = np.linspace(0,r.max(), num=200)\n",
    "x_int = np.interp(r_int, r, x) # integrate path\n",
    "y_int = np.interp(r_int, r, y)"
   ]
  },
  {
   "cell_type": "markdown",
   "id": "fcaace6f",
   "metadata": {},
   "source": [
    "### 99. Given an integer n and a 2D array X, select from X the rows which can be interpreted as draws from a multinomial distribution with n degrees, i.e., the rows which only contain integers and which sum to n. (★★★)\n"
   ]
  },
  {
   "cell_type": "code",
   "execution_count": 409,
   "id": "7d1b2c96",
   "metadata": {},
   "outputs": [
    {
     "name": "stdout",
     "output_type": "stream",
     "text": [
      "[[2. 0. 1. 1.]]\n"
     ]
    }
   ],
   "source": [
    "X = np.array([\n",
    "    [1.0, 0.0, 3.0, 8.0],\n",
    "    [2.0, 0.0, 1.0, 1.0],\n",
    "    [1.5, 2.5, 1.0, 0.0]\n",
    "])\n",
    "\n",
    "n = 4\n",
    "M = np.logical_and.reduce(np.mod(X,1) == 0, axis=-1)\n",
    "M &= (X.sum(axis=-1)== n)\n",
    "print(X[M])"
   ]
  },
  {
   "cell_type": "markdown",
   "id": "564c63bf",
   "metadata": {},
   "source": [
    "### 100. Compute bootstrapped 95% confidence intervals for the mean of a 1D array X (i.e., resample the elements of an array with replacement N times, compute the mean of each sample, and then compute percentiles over the means). (★★★)"
   ]
  },
  {
   "cell_type": "code",
   "execution_count": 423,
   "id": "f8e4cbf0",
   "metadata": {},
   "outputs": [
    {
     "name": "stdout",
     "output_type": "stream",
     "text": [
      "[0.47028199 0.58127584]\n"
     ]
    }
   ],
   "source": [
    "X = np.random.rand(100) # random 1D array\n",
    "N = 1000 # number of bootstrap samples\n",
    "idx = np.random.randint(0, X.size, (N, X.size))\n",
    "means = X[idx].mean(axis=1)\n",
    "confint = np.percentile(means, [2.5, 97.5])\n",
    "print(confint)"
   ]
  }
 ],
 "metadata": {
  "kernelspec": {
   "display_name": "Python 3 (ipykernel)",
   "language": "python",
   "name": "python3"
  },
  "language_info": {
   "codemirror_mode": {
    "name": "ipython",
    "version": 3
   },
   "file_extension": ".py",
   "mimetype": "text/x-python",
   "name": "python",
   "nbconvert_exporter": "python",
   "pygments_lexer": "ipython3",
   "version": "3.12.3"
  }
 },
 "nbformat": 4,
 "nbformat_minor": 5
}
